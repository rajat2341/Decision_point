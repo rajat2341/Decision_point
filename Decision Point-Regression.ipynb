{
 "cells": [
  {
   "cell_type": "code",
   "execution_count": 160,
   "metadata": {},
   "outputs": [],
   "source": [
    "import pandas as pd\n",
    "import datetime\n",
    "import numpy as np\n",
    "import matplotlib.pyplot as plt\n",
    "import seaborn as sns\n",
    "\n",
    "import warnings\n",
    "warnings.filterwarnings(\"ignore\")"
   ]
  },
  {
   "cell_type": "code",
   "execution_count": 161,
   "metadata": {},
   "outputs": [],
   "source": [
    "df = pd.read_csv(\"data/Assignment.csv\")"
   ]
  },
  {
   "cell_type": "code",
   "execution_count": 162,
   "metadata": {},
   "outputs": [
    {
     "data": {
      "text/html": [
       "<div>\n",
       "<style scoped>\n",
       "    .dataframe tbody tr th:only-of-type {\n",
       "        vertical-align: middle;\n",
       "    }\n",
       "\n",
       "    .dataframe tbody tr th {\n",
       "        vertical-align: top;\n",
       "    }\n",
       "\n",
       "    .dataframe thead th {\n",
       "        text-align: right;\n",
       "    }\n",
       "</style>\n",
       "<table border=\"1\" class=\"dataframe\">\n",
       "  <thead>\n",
       "    <tr style=\"text-align: right;\">\n",
       "      <th></th>\n",
       "      <th>Unnamed: 0</th>\n",
       "      <th>Customer ID</th>\n",
       "      <th>Quantity</th>\n",
       "      <th>Invoice Value</th>\n",
       "      <th>Date</th>\n",
       "    </tr>\n",
       "  </thead>\n",
       "  <tbody>\n",
       "    <tr>\n",
       "      <th>0</th>\n",
       "      <td>0</td>\n",
       "      <td>500743788</td>\n",
       "      <td>0.0</td>\n",
       "      <td>0.0</td>\n",
       "      <td>2018-12-04</td>\n",
       "    </tr>\n",
       "    <tr>\n",
       "      <th>1</th>\n",
       "      <td>5</td>\n",
       "      <td>500019375</td>\n",
       "      <td>0.0</td>\n",
       "      <td>0.0</td>\n",
       "      <td>2018-12-01</td>\n",
       "    </tr>\n",
       "    <tr>\n",
       "      <th>2</th>\n",
       "      <td>15</td>\n",
       "      <td>500470078</td>\n",
       "      <td>0.0</td>\n",
       "      <td>0.0</td>\n",
       "      <td>2018-12-09</td>\n",
       "    </tr>\n",
       "    <tr>\n",
       "      <th>3</th>\n",
       "      <td>32</td>\n",
       "      <td>500009330</td>\n",
       "      <td>0.0</td>\n",
       "      <td>0.0</td>\n",
       "      <td>2018-12-01</td>\n",
       "    </tr>\n",
       "    <tr>\n",
       "      <th>4</th>\n",
       "      <td>37</td>\n",
       "      <td>500043924</td>\n",
       "      <td>0.0</td>\n",
       "      <td>0.0</td>\n",
       "      <td>2018-12-11</td>\n",
       "    </tr>\n",
       "  </tbody>\n",
       "</table>\n",
       "</div>"
      ],
      "text/plain": [
       "   Unnamed: 0  Customer ID  Quantity  Invoice Value        Date\n",
       "0           0    500743788       0.0            0.0  2018-12-04\n",
       "1           5    500019375       0.0            0.0  2018-12-01\n",
       "2          15    500470078       0.0            0.0  2018-12-09\n",
       "3          32    500009330       0.0            0.0  2018-12-01\n",
       "4          37    500043924       0.0            0.0  2018-12-11"
      ]
     },
     "execution_count": 162,
     "metadata": {},
     "output_type": "execute_result"
    }
   ],
   "source": [
    "df.head()"
   ]
  },
  {
   "cell_type": "code",
   "execution_count": 163,
   "metadata": {},
   "outputs": [
    {
     "data": {
      "text/plain": [
       "(429550, 5)"
      ]
     },
     "execution_count": 163,
     "metadata": {},
     "output_type": "execute_result"
    }
   ],
   "source": [
    "df.shape"
   ]
  },
  {
   "cell_type": "code",
   "execution_count": 164,
   "metadata": {},
   "outputs": [
    {
     "name": "stdout",
     "output_type": "stream",
     "text": [
      "<class 'pandas.core.frame.DataFrame'>\n",
      "RangeIndex: 429550 entries, 0 to 429549\n",
      "Data columns (total 5 columns):\n",
      " #   Column         Non-Null Count   Dtype  \n",
      "---  ------         --------------   -----  \n",
      " 0   Unnamed: 0     429550 non-null  int64  \n",
      " 1   Customer ID    429550 non-null  int64  \n",
      " 2   Quantity       429550 non-null  float64\n",
      " 3   Invoice Value  429550 non-null  float64\n",
      " 4   Date           429550 non-null  object \n",
      "dtypes: float64(2), int64(2), object(1)\n",
      "memory usage: 16.4+ MB\n"
     ]
    }
   ],
   "source": [
    "df.info()"
   ]
  },
  {
   "cell_type": "code",
   "execution_count": 165,
   "metadata": {},
   "outputs": [
    {
     "data": {
      "text/html": [
       "<div>\n",
       "<style scoped>\n",
       "    .dataframe tbody tr th:only-of-type {\n",
       "        vertical-align: middle;\n",
       "    }\n",
       "\n",
       "    .dataframe tbody tr th {\n",
       "        vertical-align: top;\n",
       "    }\n",
       "\n",
       "    .dataframe thead th {\n",
       "        text-align: right;\n",
       "    }\n",
       "</style>\n",
       "<table border=\"1\" class=\"dataframe\">\n",
       "  <thead>\n",
       "    <tr style=\"text-align: right;\">\n",
       "      <th></th>\n",
       "      <th>Unnamed: 0</th>\n",
       "      <th>Customer ID</th>\n",
       "      <th>Quantity</th>\n",
       "      <th>Invoice Value</th>\n",
       "    </tr>\n",
       "  </thead>\n",
       "  <tbody>\n",
       "    <tr>\n",
       "      <th>count</th>\n",
       "      <td>4.295500e+05</td>\n",
       "      <td>4.295500e+05</td>\n",
       "      <td>429550.000000</td>\n",
       "      <td>429550.000000</td>\n",
       "    </tr>\n",
       "    <tr>\n",
       "      <th>mean</th>\n",
       "      <td>2.117060e+06</td>\n",
       "      <td>5.004040e+08</td>\n",
       "      <td>1.044103</td>\n",
       "      <td>38.615934</td>\n",
       "    </tr>\n",
       "    <tr>\n",
       "      <th>std</th>\n",
       "      <td>1.223596e+06</td>\n",
       "      <td>8.587085e+06</td>\n",
       "      <td>7.578686</td>\n",
       "      <td>285.082098</td>\n",
       "    </tr>\n",
       "    <tr>\n",
       "      <th>min</th>\n",
       "      <td>0.000000e+00</td>\n",
       "      <td>5.000000e+08</td>\n",
       "      <td>0.000000</td>\n",
       "      <td>-194.055000</td>\n",
       "    </tr>\n",
       "    <tr>\n",
       "      <th>25%</th>\n",
       "      <td>1.063264e+06</td>\n",
       "      <td>5.000391e+08</td>\n",
       "      <td>0.000000</td>\n",
       "      <td>0.000000</td>\n",
       "    </tr>\n",
       "    <tr>\n",
       "      <th>50%</th>\n",
       "      <td>2.116132e+06</td>\n",
       "      <td>5.000925e+08</td>\n",
       "      <td>0.000000</td>\n",
       "      <td>0.000000</td>\n",
       "    </tr>\n",
       "    <tr>\n",
       "      <th>75%</th>\n",
       "      <td>3.181854e+06</td>\n",
       "      <td>5.003989e+08</td>\n",
       "      <td>0.000000</td>\n",
       "      <td>0.000000</td>\n",
       "    </tr>\n",
       "    <tr>\n",
       "      <th>max</th>\n",
       "      <td>4.240876e+06</td>\n",
       "      <td>8.991026e+08</td>\n",
       "      <td>810.000000</td>\n",
       "      <td>28256.850000</td>\n",
       "    </tr>\n",
       "  </tbody>\n",
       "</table>\n",
       "</div>"
      ],
      "text/plain": [
       "         Unnamed: 0   Customer ID       Quantity  Invoice Value\n",
       "count  4.295500e+05  4.295500e+05  429550.000000  429550.000000\n",
       "mean   2.117060e+06  5.004040e+08       1.044103      38.615934\n",
       "std    1.223596e+06  8.587085e+06       7.578686     285.082098\n",
       "min    0.000000e+00  5.000000e+08       0.000000    -194.055000\n",
       "25%    1.063264e+06  5.000391e+08       0.000000       0.000000\n",
       "50%    2.116132e+06  5.000925e+08       0.000000       0.000000\n",
       "75%    3.181854e+06  5.003989e+08       0.000000       0.000000\n",
       "max    4.240876e+06  8.991026e+08     810.000000   28256.850000"
      ]
     },
     "execution_count": 165,
     "metadata": {},
     "output_type": "execute_result"
    }
   ],
   "source": [
    "df.describe()"
   ]
  },
  {
   "cell_type": "code",
   "execution_count": 166,
   "metadata": {},
   "outputs": [],
   "source": [
    "# Converting date to datetime datatype and sorting values on basis of date.\n",
    "df['Date'] = pd.to_datetime(df.Date)\n",
    "df.sort_values(by = 'Date', inplace=True, ascending=True)"
   ]
  },
  {
   "cell_type": "code",
   "execution_count": 167,
   "metadata": {},
   "outputs": [],
   "source": [
    "# reseting index after sorting values.\n",
    "df.reset_index(inplace = True)"
   ]
  },
  {
   "cell_type": "code",
   "execution_count": 168,
   "metadata": {},
   "outputs": [
    {
     "data": {
      "text/html": [
       "<div>\n",
       "<style scoped>\n",
       "    .dataframe tbody tr th:only-of-type {\n",
       "        vertical-align: middle;\n",
       "    }\n",
       "\n",
       "    .dataframe tbody tr th {\n",
       "        vertical-align: top;\n",
       "    }\n",
       "\n",
       "    .dataframe thead th {\n",
       "        text-align: right;\n",
       "    }\n",
       "</style>\n",
       "<table border=\"1\" class=\"dataframe\">\n",
       "  <thead>\n",
       "    <tr style=\"text-align: right;\">\n",
       "      <th></th>\n",
       "      <th>index</th>\n",
       "      <th>Unnamed: 0</th>\n",
       "      <th>Customer ID</th>\n",
       "      <th>Quantity</th>\n",
       "      <th>Invoice Value</th>\n",
       "      <th>Date</th>\n",
       "    </tr>\n",
       "  </thead>\n",
       "  <tbody>\n",
       "    <tr>\n",
       "      <th>0</th>\n",
       "      <td>294275</td>\n",
       "      <td>2899673</td>\n",
       "      <td>500249347</td>\n",
       "      <td>0.0</td>\n",
       "      <td>0.000</td>\n",
       "      <td>2018-01-02</td>\n",
       "    </tr>\n",
       "    <tr>\n",
       "      <th>1</th>\n",
       "      <td>349484</td>\n",
       "      <td>3447013</td>\n",
       "      <td>500006647</td>\n",
       "      <td>1.0</td>\n",
       "      <td>33.715</td>\n",
       "      <td>2018-01-02</td>\n",
       "    </tr>\n",
       "    <tr>\n",
       "      <th>2</th>\n",
       "      <td>143520</td>\n",
       "      <td>1411531</td>\n",
       "      <td>500407469</td>\n",
       "      <td>1.0</td>\n",
       "      <td>33.715</td>\n",
       "      <td>2018-01-02</td>\n",
       "    </tr>\n",
       "    <tr>\n",
       "      <th>3</th>\n",
       "      <td>164624</td>\n",
       "      <td>1621422</td>\n",
       "      <td>500642846</td>\n",
       "      <td>0.0</td>\n",
       "      <td>0.000</td>\n",
       "      <td>2018-01-02</td>\n",
       "    </tr>\n",
       "    <tr>\n",
       "      <th>4</th>\n",
       "      <td>164625</td>\n",
       "      <td>1621425</td>\n",
       "      <td>500005450</td>\n",
       "      <td>1.0</td>\n",
       "      <td>33.715</td>\n",
       "      <td>2018-01-02</td>\n",
       "    </tr>\n",
       "  </tbody>\n",
       "</table>\n",
       "</div>"
      ],
      "text/plain": [
       "    index  Unnamed: 0  Customer ID  Quantity  Invoice Value       Date\n",
       "0  294275     2899673    500249347       0.0          0.000 2018-01-02\n",
       "1  349484     3447013    500006647       1.0         33.715 2018-01-02\n",
       "2  143520     1411531    500407469       1.0         33.715 2018-01-02\n",
       "3  164624     1621422    500642846       0.0          0.000 2018-01-02\n",
       "4  164625     1621425    500005450       1.0         33.715 2018-01-02"
      ]
     },
     "execution_count": 168,
     "metadata": {},
     "output_type": "execute_result"
    }
   ],
   "source": [
    "df.head()"
   ]
  },
  {
   "cell_type": "code",
   "execution_count": 169,
   "metadata": {},
   "outputs": [],
   "source": [
    "# Dropping Unused attributes.\n",
    "df.drop(['index', 'Unnamed: 0'], inplace = True, axis = 1)"
   ]
  },
  {
   "cell_type": "code",
   "execution_count": 170,
   "metadata": {},
   "outputs": [
    {
     "data": {
      "text/plain": [
       "Customer ID      0\n",
       "Quantity         0\n",
       "Invoice Value    0\n",
       "Date             0\n",
       "dtype: int64"
      ]
     },
     "execution_count": 170,
     "metadata": {},
     "output_type": "execute_result"
    }
   ],
   "source": [
    "# Checking Null values.\n",
    "df.isnull().sum()"
   ]
  },
  {
   "cell_type": "code",
   "execution_count": 171,
   "metadata": {},
   "outputs": [
    {
     "data": {
      "text/plain": [
       "4415"
      ]
     },
     "execution_count": 171,
     "metadata": {},
     "output_type": "execute_result"
    }
   ],
   "source": [
    "# No of total outlets.\n",
    "len(df['Customer ID'].unique())"
   ]
  },
  {
   "cell_type": "code",
   "execution_count": 172,
   "metadata": {},
   "outputs": [],
   "source": [
    "# Splitting into train and test data.\n",
    "mask = (df.Date >= '2019-01-01')\n",
    "test = df.loc[mask]\n",
    "\n",
    "mask = (df.Date < '2019-01-01')\n",
    "train = df.loc[mask]"
   ]
  },
  {
   "cell_type": "code",
   "execution_count": 173,
   "metadata": {},
   "outputs": [
    {
     "data": {
      "text/html": [
       "<div>\n",
       "<style scoped>\n",
       "    .dataframe tbody tr th:only-of-type {\n",
       "        vertical-align: middle;\n",
       "    }\n",
       "\n",
       "    .dataframe tbody tr th {\n",
       "        vertical-align: top;\n",
       "    }\n",
       "\n",
       "    .dataframe thead th {\n",
       "        text-align: right;\n",
       "    }\n",
       "</style>\n",
       "<table border=\"1\" class=\"dataframe\">\n",
       "  <thead>\n",
       "    <tr style=\"text-align: right;\">\n",
       "      <th></th>\n",
       "      <th>Customer ID</th>\n",
       "      <th>Quantity</th>\n",
       "      <th>Invoice Value</th>\n",
       "      <th>Date</th>\n",
       "    </tr>\n",
       "  </thead>\n",
       "  <tbody>\n",
       "    <tr>\n",
       "      <th>342628</th>\n",
       "      <td>500108686</td>\n",
       "      <td>0.0</td>\n",
       "      <td>0.0</td>\n",
       "      <td>2018-12-30</td>\n",
       "    </tr>\n",
       "    <tr>\n",
       "      <th>342629</th>\n",
       "      <td>500635668</td>\n",
       "      <td>0.0</td>\n",
       "      <td>0.0</td>\n",
       "      <td>2018-12-30</td>\n",
       "    </tr>\n",
       "    <tr>\n",
       "      <th>342630</th>\n",
       "      <td>500709187</td>\n",
       "      <td>0.0</td>\n",
       "      <td>0.0</td>\n",
       "      <td>2018-12-30</td>\n",
       "    </tr>\n",
       "    <tr>\n",
       "      <th>342631</th>\n",
       "      <td>500098092</td>\n",
       "      <td>0.0</td>\n",
       "      <td>0.0</td>\n",
       "      <td>2018-12-30</td>\n",
       "    </tr>\n",
       "    <tr>\n",
       "      <th>342632</th>\n",
       "      <td>500082747</td>\n",
       "      <td>0.0</td>\n",
       "      <td>0.0</td>\n",
       "      <td>2018-12-30</td>\n",
       "    </tr>\n",
       "  </tbody>\n",
       "</table>\n",
       "</div>"
      ],
      "text/plain": [
       "        Customer ID  Quantity  Invoice Value       Date\n",
       "342628    500108686       0.0            0.0 2018-12-30\n",
       "342629    500635668       0.0            0.0 2018-12-30\n",
       "342630    500709187       0.0            0.0 2018-12-30\n",
       "342631    500098092       0.0            0.0 2018-12-30\n",
       "342632    500082747       0.0            0.0 2018-12-30"
      ]
     },
     "execution_count": 173,
     "metadata": {},
     "output_type": "execute_result"
    }
   ],
   "source": [
    "train.tail()"
   ]
  },
  {
   "cell_type": "code",
   "execution_count": 174,
   "metadata": {},
   "outputs": [
    {
     "data": {
      "text/html": [
       "<div>\n",
       "<style scoped>\n",
       "    .dataframe tbody tr th:only-of-type {\n",
       "        vertical-align: middle;\n",
       "    }\n",
       "\n",
       "    .dataframe tbody tr th {\n",
       "        vertical-align: top;\n",
       "    }\n",
       "\n",
       "    .dataframe thead th {\n",
       "        text-align: right;\n",
       "    }\n",
       "</style>\n",
       "<table border=\"1\" class=\"dataframe\">\n",
       "  <thead>\n",
       "    <tr style=\"text-align: right;\">\n",
       "      <th></th>\n",
       "      <th>Customer ID</th>\n",
       "      <th>Quantity</th>\n",
       "      <th>Invoice Value</th>\n",
       "      <th>Date</th>\n",
       "    </tr>\n",
       "  </thead>\n",
       "  <tbody>\n",
       "    <tr>\n",
       "      <th>342633</th>\n",
       "      <td>500104838</td>\n",
       "      <td>0.0</td>\n",
       "      <td>0.000</td>\n",
       "      <td>2019-01-02</td>\n",
       "    </tr>\n",
       "    <tr>\n",
       "      <th>342634</th>\n",
       "      <td>500029116</td>\n",
       "      <td>1.0</td>\n",
       "      <td>43.635</td>\n",
       "      <td>2019-01-02</td>\n",
       "    </tr>\n",
       "    <tr>\n",
       "      <th>342635</th>\n",
       "      <td>500025978</td>\n",
       "      <td>2.0</td>\n",
       "      <td>87.270</td>\n",
       "      <td>2019-01-02</td>\n",
       "    </tr>\n",
       "    <tr>\n",
       "      <th>342636</th>\n",
       "      <td>500687583</td>\n",
       "      <td>1.0</td>\n",
       "      <td>43.635</td>\n",
       "      <td>2019-01-02</td>\n",
       "    </tr>\n",
       "    <tr>\n",
       "      <th>342637</th>\n",
       "      <td>500095254</td>\n",
       "      <td>6.0</td>\n",
       "      <td>301.110</td>\n",
       "      <td>2019-01-02</td>\n",
       "    </tr>\n",
       "  </tbody>\n",
       "</table>\n",
       "</div>"
      ],
      "text/plain": [
       "        Customer ID  Quantity  Invoice Value       Date\n",
       "342633    500104838       0.0          0.000 2019-01-02\n",
       "342634    500029116       1.0         43.635 2019-01-02\n",
       "342635    500025978       2.0         87.270 2019-01-02\n",
       "342636    500687583       1.0         43.635 2019-01-02\n",
       "342637    500095254       6.0        301.110 2019-01-02"
      ]
     },
     "execution_count": 174,
     "metadata": {},
     "output_type": "execute_result"
    }
   ],
   "source": [
    "test.head()"
   ]
  },
  {
   "cell_type": "markdown",
   "metadata": {},
   "source": [
    "#### Data Analysis"
   ]
  },
  {
   "cell_type": "code",
   "execution_count": 175,
   "metadata": {},
   "outputs": [],
   "source": [
    "# For one customer checking if there is any relation of Quantity with datetime.\n",
    "OneCustData_tr = train[train['Customer ID'] == train['Customer ID'].values[0]]\n",
    "OneCustData_ts = train[train['Customer ID'] == train['Customer ID'].values[0]]"
   ]
  },
  {
   "cell_type": "code",
   "execution_count": 176,
   "metadata": {},
   "outputs": [],
   "source": [
    "OneCustData_tr.Timestamp = pd.to_datetime(OneCustData_tr.Date, format='%d-%m-%Y') \n",
    "OneCustData_tr.index = OneCustData_tr.Timestamp \n",
    "\n",
    "OneCustData_ts.Timestamp = pd.to_datetime(OneCustData_ts.Date, format='%d-%m-%Y') \n",
    "OneCustData_ts.index = OneCustData_ts.Timestamp "
   ]
  },
  {
   "cell_type": "code",
   "execution_count": 177,
   "metadata": {},
   "outputs": [
    {
     "data": {
      "text/html": [
       "<div>\n",
       "<style scoped>\n",
       "    .dataframe tbody tr th:only-of-type {\n",
       "        vertical-align: middle;\n",
       "    }\n",
       "\n",
       "    .dataframe tbody tr th {\n",
       "        vertical-align: top;\n",
       "    }\n",
       "\n",
       "    .dataframe thead th {\n",
       "        text-align: right;\n",
       "    }\n",
       "</style>\n",
       "<table border=\"1\" class=\"dataframe\">\n",
       "  <thead>\n",
       "    <tr style=\"text-align: right;\">\n",
       "      <th></th>\n",
       "      <th>Customer ID</th>\n",
       "      <th>Quantity</th>\n",
       "      <th>Invoice Value</th>\n",
       "      <th>Date</th>\n",
       "    </tr>\n",
       "    <tr>\n",
       "      <th>Date</th>\n",
       "      <th></th>\n",
       "      <th></th>\n",
       "      <th></th>\n",
       "      <th></th>\n",
       "    </tr>\n",
       "  </thead>\n",
       "  <tbody>\n",
       "    <tr>\n",
       "      <th>2018-01-02</th>\n",
       "      <td>500249347</td>\n",
       "      <td>0.0</td>\n",
       "      <td>0.00</td>\n",
       "      <td>2018-01-02</td>\n",
       "    </tr>\n",
       "    <tr>\n",
       "      <th>2018-01-05</th>\n",
       "      <td>500249347</td>\n",
       "      <td>0.0</td>\n",
       "      <td>0.00</td>\n",
       "      <td>2018-01-05</td>\n",
       "    </tr>\n",
       "    <tr>\n",
       "      <th>2018-01-09</th>\n",
       "      <td>500249347</td>\n",
       "      <td>0.0</td>\n",
       "      <td>0.00</td>\n",
       "      <td>2018-01-09</td>\n",
       "    </tr>\n",
       "    <tr>\n",
       "      <th>2018-01-12</th>\n",
       "      <td>500249347</td>\n",
       "      <td>2.0</td>\n",
       "      <td>67.44</td>\n",
       "      <td>2018-01-12</td>\n",
       "    </tr>\n",
       "    <tr>\n",
       "      <th>2018-01-16</th>\n",
       "      <td>500249347</td>\n",
       "      <td>0.0</td>\n",
       "      <td>0.00</td>\n",
       "      <td>2018-01-16</td>\n",
       "    </tr>\n",
       "  </tbody>\n",
       "</table>\n",
       "</div>"
      ],
      "text/plain": [
       "            Customer ID  Quantity  Invoice Value       Date\n",
       "Date                                                       \n",
       "2018-01-02    500249347       0.0           0.00 2018-01-02\n",
       "2018-01-05    500249347       0.0           0.00 2018-01-05\n",
       "2018-01-09    500249347       0.0           0.00 2018-01-09\n",
       "2018-01-12    500249347       2.0          67.44 2018-01-12\n",
       "2018-01-16    500249347       0.0           0.00 2018-01-16"
      ]
     },
     "execution_count": 177,
     "metadata": {},
     "output_type": "execute_result"
    }
   ],
   "source": [
    "OneCustData_tr.head()"
   ]
  },
  {
   "cell_type": "code",
   "execution_count": 178,
   "metadata": {},
   "outputs": [
    {
     "data": {
      "image/png": "[encoded data removed]",
      "text/plain": [
       "<Figure size 864x576 with 1 Axes>"
      ]
     },
     "metadata": {
      "needs_background": "light"
     },
     "output_type": "display_data"
    }
   ],
   "source": [
    "plt.figure(figsize = (12,8))\n",
    "plt.plot(OneCustData_tr.index, OneCustData_tr['Quantity'], label = 'OneCustData_tr')\n",
    "plt.plot(OneCustData_ts.index, OneCustData_ts['Quantity'], label = 'OneCustData_ts')\n",
    "plt.legend(loc = 'best')\n",
    "plt.title(\"Daily Quantity\")\n",
    "plt.show()"
   ]
  },
  {
   "cell_type": "markdown",
   "metadata": {},
   "source": [
    "We can't find any pattern from the plot of Quantity with Datetime."
   ]
  },
  {
   "cell_type": "code",
   "execution_count": 179,
   "metadata": {},
   "outputs": [
    {
     "data": {
      "text/plain": [
       "<matplotlib.axes._subplots.AxesSubplot at 0x7f0df89bc3c8>"
      ]
     },
     "execution_count": 179,
     "metadata": {},
     "output_type": "execute_result"
    },
    {
     "data": {
      "image/png": "[encoded data removed]",
      "text/plain": [
       "<Figure size 1152x360 with 2 Axes>"
      ]
     },
     "metadata": {
      "needs_background": "light"
     },
     "output_type": "display_data"
    }
   ],
   "source": [
    "plt.figure(1)\n",
    "plt.subplot(121)\n",
    "sns.distplot(train['Quantity'], kde_kws={'bw':0.1})\n",
    "plt.subplot(122)\n",
    "train['Quantity'].plot.box(figsize=(16,5))"
   ]
  },
  {
   "cell_type": "code",
   "execution_count": 180,
   "metadata": {},
   "outputs": [
    {
     "name": "stdout",
     "output_type": "stream",
     "text": [
      "0 percentile value is 0.0\n",
      "10 percentile value is 0.0\n",
      "20 percentile value is 0.0\n",
      "30 percentile value is 0.0\n",
      "40 percentile value is 0.0\n",
      "50 percentile value is 0.0\n",
      "60 percentile value is 0.0\n",
      "70 percentile value is 0.0\n",
      "80 percentile value is 1.0\n",
      "90 percentile value is 2.0\n",
      "100 percentile value is  809.5\n"
     ]
    }
   ],
   "source": [
    "for i in range(0,100,10):\n",
    "    var = train[\"Quantity\"].values\n",
    "    var = np.sort(var,axis = None)\n",
    "    print(\"{} percentile value is {}\".format(i,var[int(len(var)*(float(i)/100))]))\n",
    "print (\"100 percentile value is \",var[-1])"
   ]
  },
  {
   "cell_type": "code",
   "execution_count": 181,
   "metadata": {},
   "outputs": [
    {
     "name": "stdout",
     "output_type": "stream",
     "text": [
      "90 percentile value is 2.0\n",
      "91 percentile value is 2.0\n",
      "92 percentile value is 2.0\n",
      "93 percentile value is 2.0\n",
      "94 percentile value is 3.0\n",
      "95 percentile value is 4.0\n",
      "96 percentile value is 5.0\n",
      "97 percentile value is 5.0\n",
      "98 percentile value is 10.0\n",
      "99 percentile value is 15.0\n",
      "100 percentile value is  809.5\n"
     ]
    }
   ],
   "source": [
    "for i in range(90,100):\n",
    "    var = train[\"Quantity\"].values\n",
    "    var = np.sort(var,axis = None)\n",
    "    print(\"{} percentile value is {}\".format(i,var[int(len(var)*(float(i)/100))]))\n",
    "print (\"100 percentile value is \",var[-1])"
   ]
  },
  {
   "cell_type": "markdown",
   "metadata": {},
   "source": [
    "Outliers are there in the Quantity attribute. we can see it has a high increase after 99th percentile."
   ]
  },
  {
   "cell_type": "code",
   "execution_count": 182,
   "metadata": {},
   "outputs": [
    {
     "data": {
      "text/plain": [
       "<matplotlib.axes._subplots.AxesSubplot at 0x7f0df88f7f98>"
      ]
     },
     "execution_count": 182,
     "metadata": {},
     "output_type": "execute_result"
    },
    {
     "data": {
      "image/png": "[encoded data removed]",
      "text/plain": [
       "<Figure size 1152x360 with 2 Axes>"
      ]
     },
     "metadata": {
      "needs_background": "light"
     },
     "output_type": "display_data"
    }
   ],
   "source": [
    "plt.figure(1)\n",
    "plt.subplot(121)\n",
    "sns.distplot(train['Invoice Value'],  kde_kws={'bw':0.1})\n",
    "plt.subplot(122)\n",
    "train['Invoice Value'].plot.box(figsize=(16,5))"
   ]
  },
  {
   "cell_type": "code",
   "execution_count": 183,
   "metadata": {},
   "outputs": [
    {
     "name": "stdout",
     "output_type": "stream",
     "text": [
      "0 percentile value is -194.055\n",
      "10 percentile value is 0.0\n",
      "20 percentile value is 0.0\n",
      "30 percentile value is 0.0\n",
      "40 percentile value is 0.0\n",
      "50 percentile value is 0.0\n",
      "60 percentile value is 0.0\n",
      "70 percentile value is 0.0\n",
      "80 percentile value is 35.7\n",
      "90 percentile value is 68.46\n",
      "100 percentile value is  25268.54\n"
     ]
    }
   ],
   "source": [
    "for i in range(0,100,10):\n",
    "    var = train[\"Invoice Value\"].values\n",
    "    var = np.sort(var,axis = None)\n",
    "    print(\"{} percentile value is {}\".format(i,var[int(len(var)*(float(i)/100))]))\n",
    "print (\"100 percentile value is \",var[-1])"
   ]
  },
  {
   "cell_type": "code",
   "execution_count": 184,
   "metadata": {},
   "outputs": [
    {
     "name": "stdout",
     "output_type": "stream",
     "text": [
      "90 percentile value is 68.46\n",
      "91 percentile value is 75.89\n",
      "92 percentile value is 80.0\n",
      "93 percentile value is 87.27\n",
      "94 percentile value is 107.09999999999997\n",
      "95 percentile value is 125.85\n",
      "96 percentile value is 156.07500000000005\n",
      "97 percentile value is 198.35\n",
      "98 percentile value is 276.6000000000001\n",
      "99 percentile value is 466.55\n",
      "100 percentile value is  25268.54\n"
     ]
    }
   ],
   "source": [
    "for i in range(90,100):\n",
    "    var = train[\"Invoice Value\"].values\n",
    "    var = np.sort(var,axis = None)\n",
    "    print(\"{} percentile value is {}\".format(i,var[int(len(var)*(float(i)/100))]))\n",
    "print (\"100 percentile value is \",var[-1])"
   ]
  },
  {
   "cell_type": "markdown",
   "metadata": {},
   "source": [
    "Outliers are there in the Invoice Value attribute also. we can see it has a high increase after 99th percentile."
   ]
  },
  {
   "cell_type": "code",
   "execution_count": 185,
   "metadata": {},
   "outputs": [
    {
     "data": {
      "text/plain": [
       "<matplotlib.axes._subplots.AxesSubplot at 0x7f0df87f4ef0>"
      ]
     },
     "execution_count": 185,
     "metadata": {},
     "output_type": "execute_result"
    },
    {
     "data": {
      "image/png": "[encoded data removed]",
      "text/plain": [
       "<Figure size 648x432 with 2 Axes>"
      ]
     },
     "metadata": {
      "needs_background": "light"
     },
     "output_type": "display_data"
    }
   ],
   "source": [
    "# Correlation Matrix\n",
    "matrix = train.corr()\n",
    "f, ax = plt.subplots(figsize=(9,6))\n",
    "sns.heatmap(matrix, annot=True, vmax=.8, square=True, cmap=\"BuPu\")"
   ]
  },
  {
   "cell_type": "markdown",
   "metadata": {},
   "source": [
    "* There is very much correlation between (Quantity, Invoice value) which is 0.98 . so, we can consider one attribute in pair in modelling which is Quantity."
   ]
  },
  {
   "cell_type": "markdown",
   "metadata": {},
   "source": [
    "#### Outlier Treatment"
   ]
  },
  {
   "cell_type": "markdown",
   "metadata": {},
   "source": [
    "#### Select one of the techniques"
   ]
  },
  {
   "cell_type": "code",
   "execution_count": 186,
   "metadata": {},
   "outputs": [],
   "source": [
    "# Outlier removal after 99th percentile\n",
    "train = train[train.Quantity < 16]\n",
    "test = test[test.Quantity < 16]\n",
    "\n",
    "train = train[train['Invoice Value'] < 467]\n",
    "test = test[test['Invoice Value'] < 467]"
   ]
  },
  {
   "cell_type": "code",
   "execution_count": 187,
   "metadata": {},
   "outputs": [
    {
     "data": {
      "text/plain": [
       "<matplotlib.axes._subplots.AxesSubplot at 0x7f0df86e4f98>"
      ]
     },
     "execution_count": 187,
     "metadata": {},
     "output_type": "execute_result"
    },
    {
     "data": {
      "image/png": "[encoded data removed]",
      "text/plain": [
       "<Figure size 1152x360 with 2 Axes>"
      ]
     },
     "metadata": {
      "needs_background": "light"
     },
     "output_type": "display_data"
    }
   ],
   "source": [
    "plt.figure(1)\n",
    "plt.subplot(121)\n",
    "sns.distplot(train['Quantity'],  kde_kws={'bw':0.1})\n",
    "plt.subplot(122)\n",
    "train['Quantity'].plot.box(figsize=(16,5))"
   ]
  },
  {
   "cell_type": "code",
   "execution_count": 188,
   "metadata": {},
   "outputs": [
    {
     "data": {
      "text/plain": [
       "<matplotlib.axes._subplots.AxesSubplot at 0x7f0df87f40b8>"
      ]
     },
     "execution_count": 188,
     "metadata": {},
     "output_type": "execute_result"
    },
    {
     "data": {
      "image/png": "[encoded data removed]",
      "text/plain": [
       "<Figure size 1152x360 with 2 Axes>"
      ]
     },
     "metadata": {
      "needs_background": "light"
     },
     "output_type": "display_data"
    }
   ],
   "source": [
    "plt.figure(1)\n",
    "plt.subplot(121)\n",
    "sns.distplot(train['Invoice Value'],  kde_kws={'bw':0.1})\n",
    "plt.subplot(122)\n",
    "train['Invoice Value'].plot.box(figsize=(16,5))"
   ]
  },
  {
   "cell_type": "markdown",
   "metadata": {},
   "source": [
    "Distribution gets normal to great extent after removal of outliers."
   ]
  },
  {
   "cell_type": "markdown",
   "metadata": {},
   "source": [
    "#### Modelling"
   ]
  },
  {
   "cell_type": "code",
   "execution_count": 189,
   "metadata": {},
   "outputs": [
    {
     "data": {
      "text/html": [
       "<div>\n",
       "<style scoped>\n",
       "    .dataframe tbody tr th:only-of-type {\n",
       "        vertical-align: middle;\n",
       "    }\n",
       "\n",
       "    .dataframe tbody tr th {\n",
       "        vertical-align: top;\n",
       "    }\n",
       "\n",
       "    .dataframe thead th {\n",
       "        text-align: right;\n",
       "    }\n",
       "</style>\n",
       "<table border=\"1\" class=\"dataframe\">\n",
       "  <thead>\n",
       "    <tr style=\"text-align: right;\">\n",
       "      <th></th>\n",
       "      <th>Customer ID</th>\n",
       "      <th>Quantity</th>\n",
       "      <th>Invoice Value</th>\n",
       "      <th>Date</th>\n",
       "    </tr>\n",
       "  </thead>\n",
       "  <tbody>\n",
       "    <tr>\n",
       "      <th>0</th>\n",
       "      <td>500249347</td>\n",
       "      <td>0.0</td>\n",
       "      <td>0.000</td>\n",
       "      <td>2018-01-02</td>\n",
       "    </tr>\n",
       "    <tr>\n",
       "      <th>1</th>\n",
       "      <td>500006647</td>\n",
       "      <td>1.0</td>\n",
       "      <td>33.715</td>\n",
       "      <td>2018-01-02</td>\n",
       "    </tr>\n",
       "    <tr>\n",
       "      <th>2</th>\n",
       "      <td>500407469</td>\n",
       "      <td>1.0</td>\n",
       "      <td>33.715</td>\n",
       "      <td>2018-01-02</td>\n",
       "    </tr>\n",
       "    <tr>\n",
       "      <th>3</th>\n",
       "      <td>500642846</td>\n",
       "      <td>0.0</td>\n",
       "      <td>0.000</td>\n",
       "      <td>2018-01-02</td>\n",
       "    </tr>\n",
       "    <tr>\n",
       "      <th>4</th>\n",
       "      <td>500005450</td>\n",
       "      <td>1.0</td>\n",
       "      <td>33.715</td>\n",
       "      <td>2018-01-02</td>\n",
       "    </tr>\n",
       "  </tbody>\n",
       "</table>\n",
       "</div>"
      ],
      "text/plain": [
       "   Customer ID  Quantity  Invoice Value       Date\n",
       "0    500249347       0.0          0.000 2018-01-02\n",
       "1    500006647       1.0         33.715 2018-01-02\n",
       "2    500407469       1.0         33.715 2018-01-02\n",
       "3    500642846       0.0          0.000 2018-01-02\n",
       "4    500005450       1.0         33.715 2018-01-02"
      ]
     },
     "execution_count": 189,
     "metadata": {},
     "output_type": "execute_result"
    }
   ],
   "source": [
    "train.head()"
   ]
  },
  {
   "cell_type": "code",
   "execution_count": 190,
   "metadata": {},
   "outputs": [],
   "source": [
    "# Normalizing attributes values.\n",
    "MIN_MAX_COL = col = ['Quantity', 'Invoice Value']\n",
    "\n",
    "from sklearn.preprocessing import MinMaxScaler\n",
    "\n",
    "scaler = MinMaxScaler()\n",
    "train[MIN_MAX_COL] = scaler.fit_transform(train[MIN_MAX_COL])\n",
    "test[MIN_MAX_COL] = scaler.fit_transform(test[MIN_MAX_COL])"
   ]
  },
  {
   "cell_type": "code",
   "execution_count": 191,
   "metadata": {},
   "outputs": [
    {
     "data": {
      "text/plain": [
       "Index(['Customer ID', 'Quantity', 'Invoice Value', 'Date'], dtype='object')"
      ]
     },
     "execution_count": 191,
     "metadata": {},
     "output_type": "execute_result"
    }
   ],
   "source": [
    "train.columns"
   ]
  },
  {
   "cell_type": "code",
   "execution_count": 192,
   "metadata": {},
   "outputs": [],
   "source": [
    "# Taking out columns for modelling.\n",
    "col = ['Invoice Value']"
   ]
  },
  {
   "cell_type": "code",
   "execution_count": 193,
   "metadata": {},
   "outputs": [],
   "source": [
    "X_train = train[col][:]\n",
    "y_train = train['Quantity']\n",
    "\n",
    "X_test = test[col][:]\n",
    "y_test = test['Quantity']"
   ]
  },
  {
   "cell_type": "code",
   "execution_count": 194,
   "metadata": {},
   "outputs": [],
   "source": [
    "from sklearn import metrics\n",
    "from sklearn.metrics import classification_report \n",
    "from sklearn.metrics import accuracy_score\n",
    "from sklearn.metrics import precision_score\n",
    "from sklearn.metrics import recall_score\n",
    "\n",
    "from sklearn.metrics import roc_curve\n",
    "from sklearn.metrics import roc_auc_score"
   ]
  },
  {
   "cell_type": "code",
   "execution_count": 195,
   "metadata": {},
   "outputs": [],
   "source": [
    "def forecast_accuracy(forecast, actual):\n",
    "    mape = np.mean(np.abs(forecast - actual)/np.abs(actual))  # MAPE\n",
    "    me = np.mean(forecast - actual)             # ME\n",
    "    mae = np.mean(np.abs(forecast - actual))    # MAE\n",
    "    mpe = np.mean((forecast - actual)/actual)   # MPE\n",
    "    rmse = np.mean((forecast - actual)**2)**.5  # RMSE\n",
    "    corr = np.corrcoef(forecast, actual)[0,1]   # corr\n",
    "    mins = np.amin(np.hstack([forecast[:,None], \n",
    "                              actual[:,None]]), axis=1)\n",
    "    maxs = np.amax(np.hstack([forecast[:,None], \n",
    "                              actual[:,None]]), axis=1)\n",
    "    minmax = 1 - np.mean(mins/maxs)             # minmax\n",
    "    acf1 = 0#acf(fc-test)[1]                      # ACF1\n",
    "    return({'mape':mape, 'me':me, 'mae': mae, \n",
    "            'mpe': mpe, 'rmse':rmse, 'acf1':acf1, \n",
    "            'corr':corr, 'minmax':minmax})"
   ]
  },
  {
   "cell_type": "markdown",
   "metadata": {},
   "source": [
    "#### Linear regression"
   ]
  },
  {
   "cell_type": "code",
   "execution_count": 196,
   "metadata": {},
   "outputs": [
    {
     "name": "stdout",
     "output_type": "stream",
     "text": [
      "{'mape': inf, 'me': -0.342125283361407, 'mae': 0.3433244855983455, 'mpe': -inf, 'rmse': 0.3477992768610443, 'acf1': 0, 'corr': 0.991918325752279, 'minmax': inf}\n",
      "Invoice Value\n",
      "1.2502179602157375\n"
     ]
    }
   ],
   "source": [
    "from sklearn import linear_model\n",
    "linear = linear_model.LinearRegression()\n",
    "linear.fit(X_train, y_train)\n",
    "\n",
    "rtp = linear.predict(X_test)\n",
    "\n",
    "print(forecast_accuracy(np.array(rtp), np.array(y_test)))\n",
    "\n",
    "for c, cc in enumerate(linear.coef_):\n",
    "    print(X_train.columns[c])\n",
    "    print(cc)"
   ]
  },
  {
   "cell_type": "code",
   "execution_count": 197,
   "metadata": {},
   "outputs": [],
   "source": [
    "y_hat = []\n",
    "for i in y_test:\n",
    "    if i > 0.5:\n",
    "        y_hat.append(1)\n",
    "    else:\n",
    "        y_hat.append(0)\n",
    "        \n",
    "y_pred = []\n",
    "for i in rtp:\n",
    "    if i > 0.5:\n",
    "        y_pred.append(1)\n",
    "    else:\n",
    "        y_pred.append(0)"
   ]
  },
  {
   "cell_type": "code",
   "execution_count": 198,
   "metadata": {},
   "outputs": [
    {
     "name": "stdout",
     "output_type": "stream",
     "text": [
      "Accuracy on test set: 99.873%\n",
      "Precision on test set: 99.150%\n",
      "Recall on test set: 92.904%\n",
      "              precision    recall  f1-score   support\n",
      "\n",
      "           0       1.00      1.00      1.00     84155\n",
      "           1       0.99      0.93      0.96      1381\n",
      "\n",
      "    accuracy                           1.00     85536\n",
      "   macro avg       1.00      0.96      0.98     85536\n",
      "weighted avg       1.00      1.00      1.00     85536\n",
      "\n"
     ]
    }
   ],
   "source": [
    "print(\"Accuracy on test set: %0.3f%%\"%(accuracy_score(y_hat, y_pred)*100))\n",
    "print(\"Precision on test set: %0.3f%%\"%(precision_score(y_hat, y_pred)*100))\n",
    "print(\"Recall on test set: %0.3f%%\"%(recall_score(y_hat, y_pred)*100))\n",
    "print(classification_report(y_hat, y_pred))"
   ]
  },
  {
   "cell_type": "markdown",
   "metadata": {},
   "source": [
    "#### Random Forest"
   ]
  },
  {
   "cell_type": "code",
   "execution_count": 199,
   "metadata": {},
   "outputs": [
    {
     "data": {
      "text/plain": [
       "RandomForestRegressor(max_depth=5, random_state=42)"
      ]
     },
     "execution_count": 199,
     "metadata": {},
     "output_type": "execute_result"
    }
   ],
   "source": [
    "from sklearn.ensemble import RandomForestRegressor\n",
    "rf_model = RandomForestRegressor(random_state = 42, max_depth = 5)\n",
    "rf_model.fit(X_train,y_train)"
   ]
  },
  {
   "cell_type": "code",
   "execution_count": 200,
   "metadata": {},
   "outputs": [
    {
     "name": "stdout",
     "output_type": "stream",
     "text": [
      "{'mape': nan, 'me': -0.028202305374094395, 'mae': 0.028486191986744718, 'mpe': nan, 'rmse': 0.0640320454880105, 'acf1': 0, 'corr': 0.868138798533282, 'minmax': nan}\n"
     ]
    }
   ],
   "source": [
    "rf_rtp = rf_model.predict(X_test)\n",
    "print(forecast_accuracy(np.array(rf_rtp), np.array(y_test)))"
   ]
  },
  {
   "cell_type": "code",
   "execution_count": 201,
   "metadata": {},
   "outputs": [],
   "source": [
    "y_pred = []\n",
    "for i in rf_rtp:\n",
    "    if i > 0.5:\n",
    "        y_pred.append(1)\n",
    "    else:\n",
    "        y_pred.append(0)"
   ]
  },
  {
   "cell_type": "code",
   "execution_count": 202,
   "metadata": {},
   "outputs": [
    {
     "name": "stdout",
     "output_type": "stream",
     "text": [
      "Accuracy on test set: 99.874%\n",
      "Precision on test set: 97.821%\n",
      "Recall on test set: 94.280%\n",
      "              precision    recall  f1-score   support\n",
      "\n",
      "           0       1.00      1.00      1.00     84155\n",
      "           1       0.98      0.94      0.96      1381\n",
      "\n",
      "    accuracy                           1.00     85536\n",
      "   macro avg       0.99      0.97      0.98     85536\n",
      "weighted avg       1.00      1.00      1.00     85536\n",
      "\n"
     ]
    }
   ],
   "source": [
    "print(\"Accuracy on test set: %0.3f%%\"%(accuracy_score(y_hat, y_pred)*100))\n",
    "print(\"Precision on test set: %0.3f%%\"%(precision_score(y_hat, y_pred)*100))\n",
    "print(\"Recall on test set: %0.3f%%\"%(recall_score(y_hat, y_pred)*100))\n",
    "print(classification_report(y_hat, y_pred))"
   ]
  },
  {
   "cell_type": "markdown",
   "metadata": {},
   "source": [
    "#### Feature Engineering"
   ]
  },
  {
   "cell_type": "code",
   "execution_count": 203,
   "metadata": {},
   "outputs": [],
   "source": [
    "# making new features using date.\n",
    "datetime_df = pd.DataFrame(None , columns = ['day_of_week'])\n",
    "datetime_df_test = pd.DataFrame(None , columns = ['day_of_week'])"
   ]
  },
  {
   "cell_type": "code",
   "execution_count": 204,
   "metadata": {},
   "outputs": [],
   "source": [
    "datetime_df['day_of_week'] = train['Date'].apply(lambda x: x.weekday())\n",
    "\n",
    "datetime_df.insert(0,'month',train['Date'].apply(lambda x:x.month))\n",
    "datetime_df.insert(0,'day',train['Date'].apply(lambda x:x.day))\n",
    "datetime_df.insert(0,'year',train['Date'].apply(lambda x:x.year))\n",
    "\n",
    "datetime_df.insert(0,'week_start',datetime_df['day'].apply(lambda x: 1 if x == 0 or x ==1 else 0 ) )\n",
    "datetime_df.insert(0,'week_end',datetime_df['day'].apply(lambda x: 1 if x == 5 or x ==6 else 0 ) )\n",
    "\n",
    "datetime_df.insert(0,'quarter_start',train['Date'].apply(lambda x: 1 if x.is_quarter_start else 0 ) )\n",
    "datetime_df.insert(0,'quarter_end',train['Date'].apply(lambda x: 1 if x.is_quarter_end else 0 ) )\n",
    "\n",
    "datetime_df.insert(0,'year_start',train['Date'].apply(lambda x: 1 if x.is_year_start else 0 ) )\n",
    "datetime_df.insert(0,'year_end',train['Date'].apply(lambda x: 1 if x.is_year_end else 0 ) )"
   ]
  },
  {
   "cell_type": "code",
   "execution_count": 205,
   "metadata": {},
   "outputs": [],
   "source": [
    "datetime_df_test['day_of_week'] = test['Date'].apply(lambda x: x.weekday())\n",
    "\n",
    "datetime_df_test.insert(0,'month',test['Date'].apply(lambda x:x.month))\n",
    "datetime_df_test.insert(0,'day',test['Date'].apply(lambda x:x.day))\n",
    "datetime_df_test.insert(0,'year',test['Date'].apply(lambda x:x.year))\n",
    "\n",
    "datetime_df_test.insert(0,'week_start',datetime_df_test['day'].apply(lambda x: 1 if x == 0 or x ==1 else 0 ) )\n",
    "datetime_df_test.insert(0,'week_end',datetime_df_test['day'].apply(lambda x: 1 if x == 5 or x ==6 else 0 ) )\n",
    "\n",
    "datetime_df_test.insert(0,'quarter_start',test['Date'].apply(lambda x: 1 if x.is_quarter_start else 0 ) )\n",
    "datetime_df_test.insert(0,'quarter_end',test['Date'].apply(lambda x: 1 if x.is_quarter_end else 0 ) )\n",
    "\n",
    "datetime_df_test.insert(0,'year_start',test['Date'].apply(lambda x: 1 if x.is_year_start else 0 ) )\n",
    "datetime_df_test.insert(0,'year_end',test['Date'].apply(lambda x: 1 if x.is_year_end else 0 ) )"
   ]
  },
  {
   "cell_type": "code",
   "execution_count": 206,
   "metadata": {},
   "outputs": [
    {
     "data": {
      "text/plain": [
       "<matplotlib.axes._subplots.AxesSubplot at 0x7f0df8b66b38>"
      ]
     },
     "execution_count": 206,
     "metadata": {},
     "output_type": "execute_result"
    },
    {
     "data": {
      "image/png": "[encoded data removed]",
      "text/plain": [
       "<Figure size 864x648 with 2 Axes>"
      ]
     },
     "metadata": {
      "needs_background": "light"
     },
     "output_type": "display_data"
    }
   ],
   "source": [
    "matrix = datetime_df.corr()\n",
    "f, ax = plt.subplots(figsize=(12,9))\n",
    "sns.heatmap(matrix, annot=True, vmax=.8, square=True, cmap=\"BuPu\")"
   ]
  },
  {
   "cell_type": "code",
   "execution_count": 207,
   "metadata": {},
   "outputs": [],
   "source": [
    "# Modifying the Peroidic attributes.\n",
    "columns = ['day', 'month', 'day_of_week']\n",
    "for col in columns:\n",
    "    datetime_df[col+'_sin'] = np.sin((2*np.pi*datetime_df[col])/max(datetime_df[col]))\n",
    "    datetime_df[col+'_cos'] = np.cos((2*np.pi*datetime_df[col])/max(datetime_df[col]))\n",
    "    \n",
    "for col in columns:\n",
    "    datetime_df_test[col+'_sin'] = np.sin((2*np.pi*datetime_df_test[col])/max(datetime_df_test[col]))\n",
    "    datetime_df_test[col+'_cos'] = np.cos((2*np.pi*datetime_df_test[col])/max(datetime_df_test[col]))"
   ]
  },
  {
   "cell_type": "code",
   "execution_count": 208,
   "metadata": {},
   "outputs": [],
   "source": [
    "# Encoding the categorical variables.\n",
    "from sklearn.preprocessing import LabelEncoder\n",
    "from sklearn.preprocessing import OneHotEncoder\n",
    "\n",
    "col = ['year']\n",
    "lbl = LabelEncoder()\n",
    "for c in col:\n",
    "    datetime_df[c] = lbl.fit_transform(datetime_df[c])\n",
    "    dumy = pd.get_dummies(datetime_df[c], prefix = c, sparse = False)\n",
    "    datetime_df = pd.concat([datetime_df, dumy], axis = 1)\n",
    "    \n",
    "for c in col:\n",
    "    datetime_df_test[c] = lbl.fit_transform(datetime_df_test[c])\n",
    "    dumy = pd.get_dummies(datetime_df_test[c], prefix = c, sparse = False)\n",
    "    datetime_df_test = pd.concat([datetime_df_test, dumy], axis = 1)"
   ]
  },
  {
   "cell_type": "code",
   "execution_count": 209,
   "metadata": {},
   "outputs": [],
   "source": [
    "# Concatenating the datetime feature dataset with the orginal train test dataset resp.\n",
    "train1 = pd.concat([train, datetime_df], axis = 1)\n",
    "test1 = pd.concat([test, datetime_df_test], axis = 1)"
   ]
  },
  {
   "cell_type": "code",
   "execution_count": 210,
   "metadata": {},
   "outputs": [
    {
     "data": {
      "text/html": [
       "<div>\n",
       "<style scoped>\n",
       "    .dataframe tbody tr th:only-of-type {\n",
       "        vertical-align: middle;\n",
       "    }\n",
       "\n",
       "    .dataframe tbody tr th {\n",
       "        vertical-align: top;\n",
       "    }\n",
       "\n",
       "    .dataframe thead th {\n",
       "        text-align: right;\n",
       "    }\n",
       "</style>\n",
       "<table border=\"1\" class=\"dataframe\">\n",
       "  <thead>\n",
       "    <tr style=\"text-align: right;\">\n",
       "      <th></th>\n",
       "      <th>Customer ID</th>\n",
       "      <th>Quantity</th>\n",
       "      <th>Invoice Value</th>\n",
       "      <th>Date</th>\n",
       "      <th>year_end</th>\n",
       "      <th>year_start</th>\n",
       "      <th>quarter_end</th>\n",
       "      <th>quarter_start</th>\n",
       "      <th>week_end</th>\n",
       "      <th>week_start</th>\n",
       "      <th>...</th>\n",
       "      <th>day</th>\n",
       "      <th>month</th>\n",
       "      <th>day_of_week</th>\n",
       "      <th>day_sin</th>\n",
       "      <th>day_cos</th>\n",
       "      <th>month_sin</th>\n",
       "      <th>month_cos</th>\n",
       "      <th>day_of_week_sin</th>\n",
       "      <th>day_of_week_cos</th>\n",
       "      <th>year_0</th>\n",
       "    </tr>\n",
       "  </thead>\n",
       "  <tbody>\n",
       "    <tr>\n",
       "      <th>0</th>\n",
       "      <td>500249347</td>\n",
       "      <td>0.000000</td>\n",
       "      <td>0.293753</td>\n",
       "      <td>2018-01-02</td>\n",
       "      <td>0</td>\n",
       "      <td>0</td>\n",
       "      <td>0</td>\n",
       "      <td>0</td>\n",
       "      <td>0</td>\n",
       "      <td>0</td>\n",
       "      <td>...</td>\n",
       "      <td>2</td>\n",
       "      <td>1</td>\n",
       "      <td>1</td>\n",
       "      <td>0.394356</td>\n",
       "      <td>0.918958</td>\n",
       "      <td>0.5</td>\n",
       "      <td>0.866025</td>\n",
       "      <td>0.866025</td>\n",
       "      <td>0.5</td>\n",
       "      <td>1</td>\n",
       "    </tr>\n",
       "    <tr>\n",
       "      <th>1</th>\n",
       "      <td>500006647</td>\n",
       "      <td>0.066667</td>\n",
       "      <td>0.344790</td>\n",
       "      <td>2018-01-02</td>\n",
       "      <td>0</td>\n",
       "      <td>0</td>\n",
       "      <td>0</td>\n",
       "      <td>0</td>\n",
       "      <td>0</td>\n",
       "      <td>0</td>\n",
       "      <td>...</td>\n",
       "      <td>2</td>\n",
       "      <td>1</td>\n",
       "      <td>1</td>\n",
       "      <td>0.394356</td>\n",
       "      <td>0.918958</td>\n",
       "      <td>0.5</td>\n",
       "      <td>0.866025</td>\n",
       "      <td>0.866025</td>\n",
       "      <td>0.5</td>\n",
       "      <td>1</td>\n",
       "    </tr>\n",
       "    <tr>\n",
       "      <th>2</th>\n",
       "      <td>500407469</td>\n",
       "      <td>0.066667</td>\n",
       "      <td>0.344790</td>\n",
       "      <td>2018-01-02</td>\n",
       "      <td>0</td>\n",
       "      <td>0</td>\n",
       "      <td>0</td>\n",
       "      <td>0</td>\n",
       "      <td>0</td>\n",
       "      <td>0</td>\n",
       "      <td>...</td>\n",
       "      <td>2</td>\n",
       "      <td>1</td>\n",
       "      <td>1</td>\n",
       "      <td>0.394356</td>\n",
       "      <td>0.918958</td>\n",
       "      <td>0.5</td>\n",
       "      <td>0.866025</td>\n",
       "      <td>0.866025</td>\n",
       "      <td>0.5</td>\n",
       "      <td>1</td>\n",
       "    </tr>\n",
       "    <tr>\n",
       "      <th>3</th>\n",
       "      <td>500642846</td>\n",
       "      <td>0.000000</td>\n",
       "      <td>0.293753</td>\n",
       "      <td>2018-01-02</td>\n",
       "      <td>0</td>\n",
       "      <td>0</td>\n",
       "      <td>0</td>\n",
       "      <td>0</td>\n",
       "      <td>0</td>\n",
       "      <td>0</td>\n",
       "      <td>...</td>\n",
       "      <td>2</td>\n",
       "      <td>1</td>\n",
       "      <td>1</td>\n",
       "      <td>0.394356</td>\n",
       "      <td>0.918958</td>\n",
       "      <td>0.5</td>\n",
       "      <td>0.866025</td>\n",
       "      <td>0.866025</td>\n",
       "      <td>0.5</td>\n",
       "      <td>1</td>\n",
       "    </tr>\n",
       "    <tr>\n",
       "      <th>4</th>\n",
       "      <td>500005450</td>\n",
       "      <td>0.066667</td>\n",
       "      <td>0.344790</td>\n",
       "      <td>2018-01-02</td>\n",
       "      <td>0</td>\n",
       "      <td>0</td>\n",
       "      <td>0</td>\n",
       "      <td>0</td>\n",
       "      <td>0</td>\n",
       "      <td>0</td>\n",
       "      <td>...</td>\n",
       "      <td>2</td>\n",
       "      <td>1</td>\n",
       "      <td>1</td>\n",
       "      <td>0.394356</td>\n",
       "      <td>0.918958</td>\n",
       "      <td>0.5</td>\n",
       "      <td>0.866025</td>\n",
       "      <td>0.866025</td>\n",
       "      <td>0.5</td>\n",
       "      <td>1</td>\n",
       "    </tr>\n",
       "  </tbody>\n",
       "</table>\n",
       "<p>5 rows × 21 columns</p>\n",
       "</div>"
      ],
      "text/plain": [
       "   Customer ID  Quantity  Invoice Value       Date  year_end  year_start  \\\n",
       "0    500249347  0.000000       0.293753 2018-01-02         0           0   \n",
       "1    500006647  0.066667       0.344790 2018-01-02         0           0   \n",
       "2    500407469  0.066667       0.344790 2018-01-02         0           0   \n",
       "3    500642846  0.000000       0.293753 2018-01-02         0           0   \n",
       "4    500005450  0.066667       0.344790 2018-01-02         0           0   \n",
       "\n",
       "   quarter_end  quarter_start  week_end  week_start  ...  day  month  \\\n",
       "0            0              0         0           0  ...    2      1   \n",
       "1            0              0         0           0  ...    2      1   \n",
       "2            0              0         0           0  ...    2      1   \n",
       "3            0              0         0           0  ...    2      1   \n",
       "4            0              0         0           0  ...    2      1   \n",
       "\n",
       "   day_of_week   day_sin   day_cos  month_sin  month_cos  day_of_week_sin  \\\n",
       "0            1  0.394356  0.918958        0.5   0.866025         0.866025   \n",
       "1            1  0.394356  0.918958        0.5   0.866025         0.866025   \n",
       "2            1  0.394356  0.918958        0.5   0.866025         0.866025   \n",
       "3            1  0.394356  0.918958        0.5   0.866025         0.866025   \n",
       "4            1  0.394356  0.918958        0.5   0.866025         0.866025   \n",
       "\n",
       "   day_of_week_cos  year_0  \n",
       "0              0.5       1  \n",
       "1              0.5       1  \n",
       "2              0.5       1  \n",
       "3              0.5       1  \n",
       "4              0.5       1  \n",
       "\n",
       "[5 rows x 21 columns]"
      ]
     },
     "execution_count": 210,
     "metadata": {},
     "output_type": "execute_result"
    }
   ],
   "source": [
    "train1.head()"
   ]
  },
  {
   "cell_type": "markdown",
   "metadata": {},
   "source": [
    "#### Modelling"
   ]
  },
  {
   "cell_type": "code",
   "execution_count": 211,
   "metadata": {},
   "outputs": [
    {
     "data": {
      "text/plain": [
       "Index(['Customer ID', 'Quantity', 'Invoice Value', 'Date', 'year_end',\n",
       "       'year_start', 'quarter_end', 'quarter_start', 'week_end', 'week_start',\n",
       "       'year', 'day', 'month', 'day_of_week', 'day_sin', 'day_cos',\n",
       "       'month_sin', 'month_cos', 'day_of_week_sin', 'day_of_week_cos',\n",
       "       'year_0'],\n",
       "      dtype='object')"
      ]
     },
     "execution_count": 211,
     "metadata": {},
     "output_type": "execute_result"
    }
   ],
   "source": [
    "train1.columns"
   ]
  },
  {
   "cell_type": "code",
   "execution_count": 212,
   "metadata": {},
   "outputs": [],
   "source": [
    "# Taking out columns for modeling.\n",
    "col_u = [ 'Invoice Value', 'year_end', 'year_start', 'quarter_end', 'quarter_start',\n",
    "          'week_end', 'week_start', 'day_sin', 'day_cos', 'month_sin', 'month_cos', \n",
    "          'day_of_week_sin', 'day_of_week_cos', 'year_0']"
   ]
  },
  {
   "cell_type": "code",
   "execution_count": 213,
   "metadata": {},
   "outputs": [],
   "source": [
    "X_train1 = train1[col_u][:]\n",
    "y_train1 = train1['Quantity']\n",
    "\n",
    "X_test1 = test1[col_u][:]\n",
    "y_test1 = test1['Quantity']"
   ]
  },
  {
   "cell_type": "code",
   "execution_count": 214,
   "metadata": {},
   "outputs": [
    {
     "name": "stdout",
     "output_type": "stream",
     "text": [
      "{'mape': inf, 'me': -0.34245503384646375, 'mae': 0.34367783045498806, 'mpe': -inf, 'rmse': 0.34818938366910535, 'acf1': 0, 'corr': 0.9917855798429813, 'minmax': inf}\n",
      "Invoice Value\n",
      "1.2523135767482163\n",
      "year_end\n",
      "-5.637851296924623e-17\n",
      "year_start\n",
      "-1.0299920638612292e-18\n",
      "quarter_end\n",
      "1.9451637322578285e-05\n",
      "quarter_start\n",
      "-0.0006174007097965874\n",
      "week_end\n",
      "0.0001812273427885167\n",
      "week_start\n",
      "-9.799736245538686e-05\n",
      "day_sin\n",
      "0.0003550249693896251\n",
      "day_cos\n",
      "-0.00010348358151179043\n",
      "month_sin\n",
      "0.0032070248171729787\n",
      "month_cos\n",
      "-0.001761491569227668\n",
      "day_of_week_sin\n",
      "-5.032097383595629e-05\n",
      "day_of_week_cos\n",
      "0.0001039390892212762\n",
      "year_0\n",
      "0.0\n"
     ]
    }
   ],
   "source": [
    "from sklearn import linear_model\n",
    "linear = linear_model.LinearRegression()\n",
    "linear.fit(X_train1, y_train1)\n",
    "\n",
    "rtp1 = linear.predict(X_test1)\n",
    "\n",
    "print(forecast_accuracy(np.array(rtp1), np.array(y_test1)))\n",
    "\n",
    "for c, cc in enumerate(linear.coef_):\n",
    "    print(X_train1.columns[c])\n",
    "    print(cc)"
   ]
  },
  {
   "cell_type": "code",
   "execution_count": 215,
   "metadata": {},
   "outputs": [],
   "source": [
    "y_hat = []\n",
    "for i in y_test1:\n",
    "    if i > 0.5:\n",
    "        y_hat.append(1)\n",
    "    else:\n",
    "        y_hat.append(0)\n",
    "        \n",
    "y_pred = []\n",
    "for i in rtp1:\n",
    "    if i > 0.5:\n",
    "        y_pred.append(1)\n",
    "    else:\n",
    "        y_pred.append(0)"
   ]
  },
  {
   "cell_type": "code",
   "execution_count": 216,
   "metadata": {},
   "outputs": [
    {
     "name": "stdout",
     "output_type": "stream",
     "text": [
      "Accuracy on test set: 99.871%\n",
      "Precision on test set: 99.073%\n",
      "Recall on test set: 92.904%\n",
      "              precision    recall  f1-score   support\n",
      "\n",
      "           0       1.00      1.00      1.00     84155\n",
      "           1       0.99      0.93      0.96      1381\n",
      "\n",
      "    accuracy                           1.00     85536\n",
      "   macro avg       0.99      0.96      0.98     85536\n",
      "weighted avg       1.00      1.00      1.00     85536\n",
      "\n"
     ]
    }
   ],
   "source": [
    "print(\"Accuracy on test set: %0.3f%%\"%(accuracy_score(y_hat, y_pred)*100))\n",
    "print(\"Precision on test set: %0.3f%%\"%(precision_score(y_hat, y_pred)*100))\n",
    "print(\"Recall on test set: %0.3f%%\"%(recall_score(y_hat, y_pred)*100))\n",
    "print(classification_report(y_hat, y_pred))"
   ]
  },
  {
   "cell_type": "code",
   "execution_count": 217,
   "metadata": {},
   "outputs": [
    {
     "data": {
      "text/plain": [
       "RandomForestRegressor(max_depth=5, random_state=42)"
      ]
     },
     "execution_count": 217,
     "metadata": {},
     "output_type": "execute_result"
    }
   ],
   "source": [
    "from sklearn.ensemble import RandomForestRegressor\n",
    "rf_model1 = RandomForestRegressor(random_state = 42, max_depth = 5)\n",
    "rf_model1.fit(X_train1,y_train1)"
   ]
  },
  {
   "cell_type": "code",
   "execution_count": 218,
   "metadata": {},
   "outputs": [
    {
     "name": "stdout",
     "output_type": "stream",
     "text": [
      "{'mape': nan, 'me': -0.02821345486141843, 'mae': 0.028687445910487122, 'mpe': nan, 'rmse': 0.0643869300766445, 'acf1': 0, 'corr': 0.8655356972730845, 'minmax': nan}\n"
     ]
    }
   ],
   "source": [
    "rf_rtp1 = rf_model1.predict(X_test1)\n",
    "print(forecast_accuracy(np.array(rf_rtp1), np.array(y_test1)))"
   ]
  },
  {
   "cell_type": "code",
   "execution_count": 219,
   "metadata": {},
   "outputs": [],
   "source": [
    "y_pred = []\n",
    "for i in rf_rtp1:\n",
    "    if i > 0.5:\n",
    "        y_pred.append(1)\n",
    "    else:\n",
    "        y_pred.append(0)"
   ]
  },
  {
   "cell_type": "code",
   "execution_count": 220,
   "metadata": {},
   "outputs": [
    {
     "name": "stdout",
     "output_type": "stream",
     "text": [
      "Accuracy on test set: 99.867%\n",
      "Precision on test set: 98.102%\n",
      "Recall on test set: 93.555%\n",
      "              precision    recall  f1-score   support\n",
      "\n",
      "           0       1.00      1.00      1.00     84155\n",
      "           1       0.98      0.94      0.96      1381\n",
      "\n",
      "    accuracy                           1.00     85536\n",
      "   macro avg       0.99      0.97      0.98     85536\n",
      "weighted avg       1.00      1.00      1.00     85536\n",
      "\n"
     ]
    }
   ],
   "source": [
    "print(\"Accuracy on test set: %0.3f%%\"%(accuracy_score(y_hat, y_pred)*100))\n",
    "print(\"Precision on test set: %0.3f%%\"%(precision_score(y_hat, y_pred)*100))\n",
    "print(\"Recall on test set: %0.3f%%\"%(recall_score(y_hat, y_pred)*100))\n",
    "print(classification_report(y_hat, y_pred))"
   ]
  },
  {
   "cell_type": "code",
   "execution_count": 221,
   "metadata": {},
   "outputs": [
    {
     "name": "stdout",
     "output_type": "stream",
     "text": [
      "+-------------------+-------+\n",
      "|     Model_name    |  Rmse |\n",
      "+-------------------+-------+\n",
      "| Linear regression |  0.34 |\n",
      "|   Random Forest   | 0.064 |\n",
      "+-------------------+-------+\n"
     ]
    }
   ],
   "source": [
    "from prettytable import PrettyTable\n",
    "    \n",
    "x = PrettyTable()\n",
    "\n",
    "x.field_names = [\"Model_name\", \"Rmse\"]\n",
    "x.add_row([\"Linear regression\", 0.34])\n",
    "x.add_row([\"Random Forest\", 0.064])\n",
    "print(x)"
   ]
  },
  {
   "cell_type": "code",
   "execution_count": 222,
   "metadata": {},
   "outputs": [
    {
     "name": "stdout",
     "output_type": "stream",
     "text": [
      "+-------------------+------------+---------+-----------+\n",
      "|     Model_name    | Precision% | Recall% | Accuracy% |\n",
      "+-------------------+------------+---------+-----------+\n",
      "| Linear regression |   99.073   |  92.904 |   99.871  |\n",
      "|   Random Forest   |   98.102   |  93.555 |   99.867  |\n",
      "+-------------------+------------+---------+-----------+\n"
     ]
    }
   ],
   "source": [
    "from prettytable import PrettyTable\n",
    "    \n",
    "x = PrettyTable()\n",
    "\n",
    "x.field_names = [\"Model_name\", \"Precision%\", \"Recall%\", \"Accuracy%\"]\n",
    "x.add_row([\"Linear regression\", 99.073, 92.904, 99.871])\n",
    "x.add_row([\"Random Forest\", 98.102, 93.555, 99.867])\n",
    "print(x)"
   ]
  },
  {
   "cell_type": "markdown",
   "metadata": {},
   "source": [
    "#### Feature Engineering"
   ]
  },
  {
   "cell_type": "code",
   "execution_count": 223,
   "metadata": {},
   "outputs": [],
   "source": [
    "day_df = train.groupby(['Date']).agg({'Invoice Value':'mean',\\\n",
    "                          'Quantity':['sum','mean']}).reset_index()\n",
    "\n",
    "day_df_ts = test.groupby(['Date']).agg({'Invoice Value':'mean',\\\n",
    "                          'Quantity':['sum','mean']}).reset_index()"
   ]
  },
  {
   "cell_type": "code",
   "execution_count": 224,
   "metadata": {},
   "outputs": [
    {
     "data": {
      "text/html": [
       "<div>\n",
       "<style scoped>\n",
       "    .dataframe tbody tr th:only-of-type {\n",
       "        vertical-align: middle;\n",
       "    }\n",
       "\n",
       "    .dataframe tbody tr th {\n",
       "        vertical-align: top;\n",
       "    }\n",
       "\n",
       "    .dataframe thead tr th {\n",
       "        text-align: left;\n",
       "    }\n",
       "</style>\n",
       "<table border=\"1\" class=\"dataframe\">\n",
       "  <thead>\n",
       "    <tr>\n",
       "      <th></th>\n",
       "      <th>Date</th>\n",
       "      <th>Invoice Value</th>\n",
       "      <th colspan=\"2\" halign=\"left\">Quantity</th>\n",
       "    </tr>\n",
       "    <tr>\n",
       "      <th></th>\n",
       "      <th></th>\n",
       "      <th>mean</th>\n",
       "      <th>sum</th>\n",
       "      <th>mean</th>\n",
       "    </tr>\n",
       "  </thead>\n",
       "  <tbody>\n",
       "    <tr>\n",
       "      <th>0</th>\n",
       "      <td>2018-01-02</td>\n",
       "      <td>0.331408</td>\n",
       "      <td>14.533333</td>\n",
       "      <td>0.055683</td>\n",
       "    </tr>\n",
       "    <tr>\n",
       "      <th>1</th>\n",
       "      <td>2018-01-03</td>\n",
       "      <td>0.319121</td>\n",
       "      <td>37.855533</td>\n",
       "      <td>0.036753</td>\n",
       "    </tr>\n",
       "    <tr>\n",
       "      <th>2</th>\n",
       "      <td>2018-01-04</td>\n",
       "      <td>0.323874</td>\n",
       "      <td>50.266667</td>\n",
       "      <td>0.043901</td>\n",
       "    </tr>\n",
       "    <tr>\n",
       "      <th>3</th>\n",
       "      <td>2018-01-05</td>\n",
       "      <td>0.328397</td>\n",
       "      <td>55.666667</td>\n",
       "      <td>0.049350</td>\n",
       "    </tr>\n",
       "    <tr>\n",
       "      <th>4</th>\n",
       "      <td>2018-01-06</td>\n",
       "      <td>0.321432</td>\n",
       "      <td>50.255533</td>\n",
       "      <td>0.040726</td>\n",
       "    </tr>\n",
       "    <tr>\n",
       "      <th>...</th>\n",
       "      <td>...</td>\n",
       "      <td>...</td>\n",
       "      <td>...</td>\n",
       "      <td>...</td>\n",
       "    </tr>\n",
       "    <tr>\n",
       "      <th>294</th>\n",
       "      <td>2018-12-26</td>\n",
       "      <td>0.333898</td>\n",
       "      <td>66.200000</td>\n",
       "      <td>0.042572</td>\n",
       "    </tr>\n",
       "    <tr>\n",
       "      <th>295</th>\n",
       "      <td>2018-12-27</td>\n",
       "      <td>0.340222</td>\n",
       "      <td>68.355533</td>\n",
       "      <td>0.049895</td>\n",
       "    </tr>\n",
       "    <tr>\n",
       "      <th>296</th>\n",
       "      <td>2018-12-28</td>\n",
       "      <td>0.341166</td>\n",
       "      <td>67.311067</td>\n",
       "      <td>0.050420</td>\n",
       "    </tr>\n",
       "    <tr>\n",
       "      <th>297</th>\n",
       "      <td>2018-12-29</td>\n",
       "      <td>0.344795</td>\n",
       "      <td>84.266667</td>\n",
       "      <td>0.054226</td>\n",
       "    </tr>\n",
       "    <tr>\n",
       "      <th>298</th>\n",
       "      <td>2018-12-30</td>\n",
       "      <td>0.340222</td>\n",
       "      <td>73.333333</td>\n",
       "      <td>0.048954</td>\n",
       "    </tr>\n",
       "  </tbody>\n",
       "</table>\n",
       "<p>299 rows × 4 columns</p>\n",
       "</div>"
      ],
      "text/plain": [
       "          Date Invoice Value   Quantity          \n",
       "                        mean        sum      mean\n",
       "0   2018-01-02      0.331408  14.533333  0.055683\n",
       "1   2018-01-03      0.319121  37.855533  0.036753\n",
       "2   2018-01-04      0.323874  50.266667  0.043901\n",
       "3   2018-01-05      0.328397  55.666667  0.049350\n",
       "4   2018-01-06      0.321432  50.255533  0.040726\n",
       "..         ...           ...        ...       ...\n",
       "294 2018-12-26      0.333898  66.200000  0.042572\n",
       "295 2018-12-27      0.340222  68.355533  0.049895\n",
       "296 2018-12-28      0.341166  67.311067  0.050420\n",
       "297 2018-12-29      0.344795  84.266667  0.054226\n",
       "298 2018-12-30      0.340222  73.333333  0.048954\n",
       "\n",
       "[299 rows x 4 columns]"
      ]
     },
     "execution_count": 224,
     "metadata": {},
     "output_type": "execute_result"
    }
   ],
   "source": [
    "day_df"
   ]
  },
  {
   "cell_type": "code",
   "execution_count": 225,
   "metadata": {},
   "outputs": [],
   "source": [
    "day_df.columns = ['_'.join(x) if len(x)>1 else x[0] for x in day_df.columns ]\n",
    "day_df_ts.columns = ['_'.join(x) if len(x)>1 else x[0] for x in day_df_ts.columns ]"
   ]
  },
  {
   "cell_type": "code",
   "execution_count": 226,
   "metadata": {},
   "outputs": [
    {
     "data": {
      "text/html": [
       "<div>\n",
       "<style scoped>\n",
       "    .dataframe tbody tr th:only-of-type {\n",
       "        vertical-align: middle;\n",
       "    }\n",
       "\n",
       "    .dataframe tbody tr th {\n",
       "        vertical-align: top;\n",
       "    }\n",
       "\n",
       "    .dataframe thead th {\n",
       "        text-align: right;\n",
       "    }\n",
       "</style>\n",
       "<table border=\"1\" class=\"dataframe\">\n",
       "  <thead>\n",
       "    <tr style=\"text-align: right;\">\n",
       "      <th></th>\n",
       "      <th>Date_</th>\n",
       "      <th>Invoice Value_mean</th>\n",
       "      <th>Quantity_sum</th>\n",
       "      <th>Quantity_mean</th>\n",
       "    </tr>\n",
       "  </thead>\n",
       "  <tbody>\n",
       "    <tr>\n",
       "      <th>0</th>\n",
       "      <td>2018-01-02</td>\n",
       "      <td>0.331408</td>\n",
       "      <td>14.533333</td>\n",
       "      <td>0.055683</td>\n",
       "    </tr>\n",
       "    <tr>\n",
       "      <th>1</th>\n",
       "      <td>2018-01-03</td>\n",
       "      <td>0.319121</td>\n",
       "      <td>37.855533</td>\n",
       "      <td>0.036753</td>\n",
       "    </tr>\n",
       "    <tr>\n",
       "      <th>2</th>\n",
       "      <td>2018-01-04</td>\n",
       "      <td>0.323874</td>\n",
       "      <td>50.266667</td>\n",
       "      <td>0.043901</td>\n",
       "    </tr>\n",
       "    <tr>\n",
       "      <th>3</th>\n",
       "      <td>2018-01-05</td>\n",
       "      <td>0.328397</td>\n",
       "      <td>55.666667</td>\n",
       "      <td>0.049350</td>\n",
       "    </tr>\n",
       "    <tr>\n",
       "      <th>4</th>\n",
       "      <td>2018-01-06</td>\n",
       "      <td>0.321432</td>\n",
       "      <td>50.255533</td>\n",
       "      <td>0.040726</td>\n",
       "    </tr>\n",
       "  </tbody>\n",
       "</table>\n",
       "</div>"
      ],
      "text/plain": [
       "       Date_  Invoice Value_mean  Quantity_sum  Quantity_mean\n",
       "0 2018-01-02            0.331408     14.533333       0.055683\n",
       "1 2018-01-03            0.319121     37.855533       0.036753\n",
       "2 2018-01-04            0.323874     50.266667       0.043901\n",
       "3 2018-01-05            0.328397     55.666667       0.049350\n",
       "4 2018-01-06            0.321432     50.255533       0.040726"
      ]
     },
     "execution_count": 226,
     "metadata": {},
     "output_type": "execute_result"
    }
   ],
   "source": [
    "day_df.head()"
   ]
  },
  {
   "cell_type": "code",
   "execution_count": 227,
   "metadata": {},
   "outputs": [],
   "source": [
    "day_df['day'] = pd.to_datetime(day_df['Date_']).dt.day\n",
    "day_df['month'] = pd.to_datetime(day_df['Date_']).dt.month\n",
    "day_df['year'] = pd.to_datetime(day_df['Date_']).dt.year\n",
    "\n",
    "day_df_ts['day'] = pd.to_datetime(day_df_ts['Date_']).dt.day\n",
    "day_df_ts['month'] = pd.to_datetime(day_df_ts['Date_']).dt.month\n",
    "day_df_ts['year'] = pd.to_datetime(day_df_ts['Date_']).dt.year"
   ]
  },
  {
   "cell_type": "code",
   "execution_count": 228,
   "metadata": {},
   "outputs": [],
   "source": [
    "day_df['lag_1'] = day_df.groupby(['month','year'])['Quantity_mean'].shift(1)\n",
    "day_df_ts['lag_1'] = day_df_ts.groupby(['month','year'])['Quantity_mean'].shift(1)"
   ]
  },
  {
   "cell_type": "code",
   "execution_count": 229,
   "metadata": {},
   "outputs": [],
   "source": [
    "day_df['dt_date'] = pd.to_datetime(day_df['Date_'])\n",
    "day_df_ts['dt_date'] = pd.to_datetime(day_df_ts['Date_'])"
   ]
  },
  {
   "cell_type": "code",
   "execution_count": 230,
   "metadata": {},
   "outputs": [],
   "source": [
    "day_df.sort_values(by=['dt_date'], inplace=True)\n",
    "day_df_ts.sort_values(by=['dt_date'], inplace=True)"
   ]
  },
  {
   "cell_type": "code",
   "execution_count": 231,
   "metadata": {},
   "outputs": [],
   "source": [
    "LAG_COL = []\n",
    "for i in range(2,23):\n",
    "  col_name = 'lag_'+str(i)\n",
    "  temp = day_df.groupby(['month','year'])['Quantity_mean'].\\\n",
    "                      rolling(window =i, min_periods=1).mean().reset_index()\n",
    "  temp.sort_values(by=['year','month'], inplace=True)\n",
    "  temp['new_mean'] = temp.groupby(['month','year'])['Quantity_mean'].shift(1)\n",
    "  temp = temp.set_index('level_2')\n",
    "  day_df[col_name] = temp['new_mean']\n",
    "  LAG_COL.append(col_name)"
   ]
  },
  {
   "cell_type": "code",
   "execution_count": 232,
   "metadata": {},
   "outputs": [],
   "source": [
    "LAG_COL_ts = []\n",
    "for i in range(2,23):\n",
    "  col_name = 'lag_'+str(i)\n",
    "  temp = day_df_ts.groupby(['month','year'])['Quantity_mean'].\\\n",
    "                      rolling(window =i, min_periods=1).mean().reset_index()\n",
    "  temp.sort_values(by=['year','month'], inplace=True)\n",
    "  temp['new_mean'] = temp.groupby(['month','year'])['Quantity_mean'].shift(1)\n",
    "  temp = temp.set_index('level_2')\n",
    "  day_df_ts[col_name] = temp['new_mean']\n",
    "  LAG_COL_ts.append(col_name)"
   ]
  },
  {
   "cell_type": "code",
   "execution_count": 233,
   "metadata": {},
   "outputs": [
    {
     "data": {
      "text/plain": [
       "Index(['Date_', 'Invoice Value_mean', 'Quantity_sum', 'Quantity_mean', 'day',\n",
       "       'month', 'year', 'lag_1', 'dt_date', 'lag_2', 'lag_3', 'lag_4', 'lag_5',\n",
       "       'lag_6', 'lag_7', 'lag_8', 'lag_9', 'lag_10', 'lag_11', 'lag_12',\n",
       "       'lag_13', 'lag_14', 'lag_15', 'lag_16', 'lag_17', 'lag_18', 'lag_19',\n",
       "       'lag_20', 'lag_21', 'lag_22'],\n",
       "      dtype='object')"
      ]
     },
     "execution_count": 233,
     "metadata": {},
     "output_type": "execute_result"
    }
   ],
   "source": [
    "day_df.columns"
   ]
  },
  {
   "cell_type": "code",
   "execution_count": 234,
   "metadata": {},
   "outputs": [
    {
     "data": {
      "text/plain": [
       "Index(['Date_', 'Invoice Value_mean', 'Quantity_sum', 'Quantity_mean', 'day',\n",
       "       'month', 'year', 'lag_1', 'dt_date', 'lag_2', 'lag_3', 'lag_4', 'lag_5',\n",
       "       'lag_6', 'lag_7', 'lag_8', 'lag_9', 'lag_10', 'lag_11', 'lag_12',\n",
       "       'lag_13', 'lag_14', 'lag_15', 'lag_16', 'lag_17', 'lag_18', 'lag_19',\n",
       "       'lag_20', 'lag_21', 'lag_22'],\n",
       "      dtype='object')"
      ]
     },
     "execution_count": 234,
     "metadata": {},
     "output_type": "execute_result"
    }
   ],
   "source": [
    "day_df_ts.columns"
   ]
  },
  {
   "cell_type": "code",
   "execution_count": 235,
   "metadata": {},
   "outputs": [],
   "source": [
    "req_merge = day_df[['Quantity_mean', 'Invoice Value_mean',\n",
    "       'day', 'month', 'year', 'lag_1',\n",
    "       'lag_2', 'lag_3', 'lag_4', 'lag_5', 'lag_6', 'lag_7',\n",
    "       'lag_8', 'lag_9', 'lag_10', 'lag_11', 'lag_12', 'lag_13', 'lag_14',\n",
    "       'lag_15', 'lag_16', 'lag_17', 'lag_18', 'lag_19', 'lag_20', 'lag_21',\n",
    "       'lag_22','Date_']]"
   ]
  },
  {
   "cell_type": "code",
   "execution_count": 236,
   "metadata": {},
   "outputs": [],
   "source": [
    "req_merge_ts = day_df_ts[['Quantity_mean', 'Invoice Value_mean',\n",
    "       'day', 'month', 'year', 'lag_1',\n",
    "       'lag_2', 'lag_3', 'lag_4', 'lag_5', 'lag_6', 'lag_7',\n",
    "       'lag_8', 'lag_9', 'lag_10', 'lag_11', 'lag_12', 'lag_13', 'lag_14',\n",
    "       'lag_15', 'lag_16', 'lag_17', 'lag_18', 'lag_19', 'lag_20', 'lag_21',\n",
    "       'lag_22','Date_']]"
   ]
  },
  {
   "cell_type": "code",
   "execution_count": 237,
   "metadata": {},
   "outputs": [
    {
     "data": {
      "text/html": [
       "<div>\n",
       "<style scoped>\n",
       "    .dataframe tbody tr th:only-of-type {\n",
       "        vertical-align: middle;\n",
       "    }\n",
       "\n",
       "    .dataframe tbody tr th {\n",
       "        vertical-align: top;\n",
       "    }\n",
       "\n",
       "    .dataframe thead th {\n",
       "        text-align: right;\n",
       "    }\n",
       "</style>\n",
       "<table border=\"1\" class=\"dataframe\">\n",
       "  <thead>\n",
       "    <tr style=\"text-align: right;\">\n",
       "      <th></th>\n",
       "      <th>Quantity_mean</th>\n",
       "      <th>Invoice Value_mean</th>\n",
       "      <th>day</th>\n",
       "      <th>month</th>\n",
       "      <th>year</th>\n",
       "      <th>lag_1</th>\n",
       "      <th>lag_2</th>\n",
       "      <th>lag_3</th>\n",
       "      <th>lag_4</th>\n",
       "      <th>lag_5</th>\n",
       "      <th>...</th>\n",
       "      <th>lag_14</th>\n",
       "      <th>lag_15</th>\n",
       "      <th>lag_16</th>\n",
       "      <th>lag_17</th>\n",
       "      <th>lag_18</th>\n",
       "      <th>lag_19</th>\n",
       "      <th>lag_20</th>\n",
       "      <th>lag_21</th>\n",
       "      <th>lag_22</th>\n",
       "      <th>Date_</th>\n",
       "    </tr>\n",
       "  </thead>\n",
       "  <tbody>\n",
       "    <tr>\n",
       "      <th>0</th>\n",
       "      <td>0.055683</td>\n",
       "      <td>0.331408</td>\n",
       "      <td>2</td>\n",
       "      <td>1</td>\n",
       "      <td>2018</td>\n",
       "      <td>NaN</td>\n",
       "      <td>NaN</td>\n",
       "      <td>NaN</td>\n",
       "      <td>NaN</td>\n",
       "      <td>NaN</td>\n",
       "      <td>...</td>\n",
       "      <td>NaN</td>\n",
       "      <td>NaN</td>\n",
       "      <td>NaN</td>\n",
       "      <td>NaN</td>\n",
       "      <td>NaN</td>\n",
       "      <td>NaN</td>\n",
       "      <td>NaN</td>\n",
       "      <td>NaN</td>\n",
       "      <td>NaN</td>\n",
       "      <td>2018-01-02</td>\n",
       "    </tr>\n",
       "    <tr>\n",
       "      <th>1</th>\n",
       "      <td>0.036753</td>\n",
       "      <td>0.319121</td>\n",
       "      <td>3</td>\n",
       "      <td>1</td>\n",
       "      <td>2018</td>\n",
       "      <td>0.055683</td>\n",
       "      <td>0.055683</td>\n",
       "      <td>0.055683</td>\n",
       "      <td>0.055683</td>\n",
       "      <td>0.055683</td>\n",
       "      <td>...</td>\n",
       "      <td>0.055683</td>\n",
       "      <td>0.055683</td>\n",
       "      <td>0.055683</td>\n",
       "      <td>0.055683</td>\n",
       "      <td>0.055683</td>\n",
       "      <td>0.055683</td>\n",
       "      <td>0.055683</td>\n",
       "      <td>0.055683</td>\n",
       "      <td>0.055683</td>\n",
       "      <td>2018-01-03</td>\n",
       "    </tr>\n",
       "    <tr>\n",
       "      <th>2</th>\n",
       "      <td>0.043901</td>\n",
       "      <td>0.323874</td>\n",
       "      <td>4</td>\n",
       "      <td>1</td>\n",
       "      <td>2018</td>\n",
       "      <td>0.036753</td>\n",
       "      <td>0.046218</td>\n",
       "      <td>0.046218</td>\n",
       "      <td>0.046218</td>\n",
       "      <td>0.046218</td>\n",
       "      <td>...</td>\n",
       "      <td>0.046218</td>\n",
       "      <td>0.046218</td>\n",
       "      <td>0.046218</td>\n",
       "      <td>0.046218</td>\n",
       "      <td>0.046218</td>\n",
       "      <td>0.046218</td>\n",
       "      <td>0.046218</td>\n",
       "      <td>0.046218</td>\n",
       "      <td>0.046218</td>\n",
       "      <td>2018-01-04</td>\n",
       "    </tr>\n",
       "    <tr>\n",
       "      <th>3</th>\n",
       "      <td>0.049350</td>\n",
       "      <td>0.328397</td>\n",
       "      <td>5</td>\n",
       "      <td>1</td>\n",
       "      <td>2018</td>\n",
       "      <td>0.043901</td>\n",
       "      <td>0.040327</td>\n",
       "      <td>0.045446</td>\n",
       "      <td>0.045446</td>\n",
       "      <td>0.045446</td>\n",
       "      <td>...</td>\n",
       "      <td>0.045446</td>\n",
       "      <td>0.045446</td>\n",
       "      <td>0.045446</td>\n",
       "      <td>0.045446</td>\n",
       "      <td>0.045446</td>\n",
       "      <td>0.045446</td>\n",
       "      <td>0.045446</td>\n",
       "      <td>0.045446</td>\n",
       "      <td>0.045446</td>\n",
       "      <td>2018-01-05</td>\n",
       "    </tr>\n",
       "    <tr>\n",
       "      <th>4</th>\n",
       "      <td>0.040726</td>\n",
       "      <td>0.321432</td>\n",
       "      <td>6</td>\n",
       "      <td>1</td>\n",
       "      <td>2018</td>\n",
       "      <td>0.049350</td>\n",
       "      <td>0.046625</td>\n",
       "      <td>0.043335</td>\n",
       "      <td>0.046422</td>\n",
       "      <td>0.046422</td>\n",
       "      <td>...</td>\n",
       "      <td>0.046422</td>\n",
       "      <td>0.046422</td>\n",
       "      <td>0.046422</td>\n",
       "      <td>0.046422</td>\n",
       "      <td>0.046422</td>\n",
       "      <td>0.046422</td>\n",
       "      <td>0.046422</td>\n",
       "      <td>0.046422</td>\n",
       "      <td>0.046422</td>\n",
       "      <td>2018-01-06</td>\n",
       "    </tr>\n",
       "  </tbody>\n",
       "</table>\n",
       "<p>5 rows × 28 columns</p>\n",
       "</div>"
      ],
      "text/plain": [
       "   Quantity_mean  Invoice Value_mean  day  month  year     lag_1     lag_2  \\\n",
       "0       0.055683            0.331408    2      1  2018       NaN       NaN   \n",
       "1       0.036753            0.319121    3      1  2018  0.055683  0.055683   \n",
       "2       0.043901            0.323874    4      1  2018  0.036753  0.046218   \n",
       "3       0.049350            0.328397    5      1  2018  0.043901  0.040327   \n",
       "4       0.040726            0.321432    6      1  2018  0.049350  0.046625   \n",
       "\n",
       "      lag_3     lag_4     lag_5  ...    lag_14    lag_15    lag_16    lag_17  \\\n",
       "0       NaN       NaN       NaN  ...       NaN       NaN       NaN       NaN   \n",
       "1  0.055683  0.055683  0.055683  ...  0.055683  0.055683  0.055683  0.055683   \n",
       "2  0.046218  0.046218  0.046218  ...  0.046218  0.046218  0.046218  0.046218   \n",
       "3  0.045446  0.045446  0.045446  ...  0.045446  0.045446  0.045446  0.045446   \n",
       "4  0.043335  0.046422  0.046422  ...  0.046422  0.046422  0.046422  0.046422   \n",
       "\n",
       "     lag_18    lag_19    lag_20    lag_21    lag_22      Date_  \n",
       "0       NaN       NaN       NaN       NaN       NaN 2018-01-02  \n",
       "1  0.055683  0.055683  0.055683  0.055683  0.055683 2018-01-03  \n",
       "2  0.046218  0.046218  0.046218  0.046218  0.046218 2018-01-04  \n",
       "3  0.045446  0.045446  0.045446  0.045446  0.045446 2018-01-05  \n",
       "4  0.046422  0.046422  0.046422  0.046422  0.046422 2018-01-06  \n",
       "\n",
       "[5 rows x 28 columns]"
      ]
     },
     "execution_count": 237,
     "metadata": {},
     "output_type": "execute_result"
    }
   ],
   "source": [
    "req_merge.head()"
   ]
  },
  {
   "cell_type": "code",
   "execution_count": 238,
   "metadata": {},
   "outputs": [],
   "source": [
    "train2 = pd.merge(train1, req_merge, left_on = ['Date'], right_on=['Date_'])\n",
    "test2 = pd.merge(test1, req_merge_ts, left_on = ['Date'], right_on=['Date_'])"
   ]
  },
  {
   "cell_type": "code",
   "execution_count": 239,
   "metadata": {},
   "outputs": [],
   "source": [
    "train2['Invoice_Value_ratio'] = train2['Invoice Value']/train2['Invoice Value_mean']\n",
    "test2['Invoice_Value_ratio'] = test2['Invoice Value']/test2['Invoice Value_mean']"
   ]
  },
  {
   "cell_type": "code",
   "execution_count": 240,
   "metadata": {},
   "outputs": [],
   "source": [
    "train_2 = train2.copy()\n",
    "test_2 = test2.copy()"
   ]
  },
  {
   "cell_type": "code",
   "execution_count": 241,
   "metadata": {},
   "outputs": [
    {
     "data": {
      "text/plain": [
       "Index(['Customer ID', 'Quantity', 'Invoice Value', 'Date', 'year_end',\n",
       "       'year_start', 'quarter_end', 'quarter_start', 'week_end', 'week_start',\n",
       "       'year_x', 'day_x', 'month_x', 'day_of_week', 'day_sin', 'day_cos',\n",
       "       'month_sin', 'month_cos', 'day_of_week_sin', 'day_of_week_cos',\n",
       "       'year_0', 'Quantity_mean', 'Invoice Value_mean', 'day_y', 'month_y',\n",
       "       'year_y', 'lag_1', 'lag_2', 'lag_3', 'lag_4', 'lag_5', 'lag_6', 'lag_7',\n",
       "       'lag_8', 'lag_9', 'lag_10', 'lag_11', 'lag_12', 'lag_13', 'lag_14',\n",
       "       'lag_15', 'lag_16', 'lag_17', 'lag_18', 'lag_19', 'lag_20', 'lag_21',\n",
       "       'lag_22', 'Date_', 'Invoice_Value_ratio'],\n",
       "      dtype='object')"
      ]
     },
     "execution_count": 241,
     "metadata": {},
     "output_type": "execute_result"
    }
   ],
   "source": [
    "train_2.columns"
   ]
  },
  {
   "cell_type": "code",
   "execution_count": 242,
   "metadata": {},
   "outputs": [],
   "source": [
    "train_2.drop(['Date','Date_','Quantity_mean','day_y','month_y','year_y'], axis=1, inplace=True)\n",
    "test_2.drop(['Date','Date_','Quantity_mean','day_y','month_y','year_y'], axis=1, inplace=True)"
   ]
  },
  {
   "cell_type": "code",
   "execution_count": 243,
   "metadata": {},
   "outputs": [],
   "source": [
    "train_2.rename(columns={'year_x':'year','month_x':'month','day_x':'day'},inplace=True)\n",
    "test_2.rename(columns={'year_x':'year','month_x':'month','day_x':'day'},inplace=True)"
   ]
  },
  {
   "cell_type": "code",
   "execution_count": 244,
   "metadata": {},
   "outputs": [],
   "source": [
    "bin_labels_5 = ['Winter', 'Spring', 'Summer', 'Fall']\n",
    "train_2['season'] = pd.cut(train_2['month'],bins=[1,2, 5,8,11],labels=bin_labels_5)\n",
    "train_2['season'] = train_2['season'].fillna('Winter')\n",
    "\n",
    "bin_labels_3 = ['beg', 'mid', 'end']\n",
    "train_2['month_time'] = pd.cut(train_2['month'],bins=[0,7,24,31],labels=bin_labels_3)\n",
    "\n",
    "bin_labels_2 = ['weekdays', 'weekend']\n",
    "train_2['week_time'] = pd.cut(train_2['day_of_week'],bins=[-1,4,6],labels=bin_labels_2)\n",
    "\n",
    "\n",
    "bin_labels_5 = ['Winter', 'Spring', 'Summer', 'Fall']\n",
    "test_2['season'] = pd.cut(test_2['month'],bins=[1,2, 5,8,11],labels=bin_labels_5)\n",
    "test_2['season'] = test_2['season'].fillna('Winter')\n",
    "\n",
    "bin_labels_3 = ['beg', 'mid', 'end']\n",
    "test_2['month_time'] = pd.cut(test_2['month'],bins=[0,7,24,31],labels=bin_labels_3)\n",
    "\n",
    "bin_labels_2 = ['weekdays', 'weekend']\n",
    "test_2['week_time'] = pd.cut(test_2['day_of_week'],bins=[-1,4,6],labels=bin_labels_2)"
   ]
  },
  {
   "cell_type": "code",
   "execution_count": 245,
   "metadata": {},
   "outputs": [],
   "source": [
    "from sklearn.preprocessing import LabelEncoder\n",
    "col=['season','month_time', 'week_time']\n",
    "lbl = LabelEncoder()\n",
    "for c in col:\n",
    "    if c!='var2':\n",
    "        train_2[c] = lbl.fit_transform(train_2[c])\n",
    "    else:\n",
    "        train_2[c] = lbl.fit_transform(train_2[c])\n",
    "        dumy = pd.get_dummies(train_2[c],prefix=c)\n",
    "        train_2 = pd.concat([train_2,dumy],axis=1)\n",
    "        train_2 = train_2.drop(c,axis=1)\n",
    "    \n",
    "dumy = pd.get_dummies(train_2['year'],prefix='year')\n",
    "train_2 = pd.concat([train_2,dumy],axis=1)\n",
    "train_2 = train_2.drop('year',axis=1)"
   ]
  },
  {
   "cell_type": "code",
   "execution_count": 246,
   "metadata": {},
   "outputs": [],
   "source": [
    "from sklearn.preprocessing import LabelEncoder\n",
    "col=['season','month_time', 'week_time']\n",
    "lbl = LabelEncoder()\n",
    "for c in col:\n",
    "    if c!='var2':\n",
    "        test_2[c] = lbl.fit_transform(test_2[c])\n",
    "    else:\n",
    "        test_2[c] = lbl.fit_transform(test_2[c])\n",
    "        dumy = pd.get_dummies(test_2[c],prefix=c)\n",
    "        test_2 = pd.concat([test_2,dumy],axis=1)\n",
    "        test_2 = test_2.drop(c,axis=1)\n",
    "    \n",
    "dumy = pd.get_dummies(test_2['year'],prefix='year')\n",
    "test_2 = pd.concat([test_2,dumy],axis=1)\n",
    "test_2 = test_2.drop('year',axis=1)"
   ]
  },
  {
   "cell_type": "code",
   "execution_count": 247,
   "metadata": {},
   "outputs": [],
   "source": [
    "columns=['month_time','season','week_time']\n",
    "for col in columns:\n",
    "    train_2[col+'_sin']=np.sin((2*np.pi*train_2[col])/max(train_2[col]))\n",
    "    train_2[col+'_cos']=np.cos((2*np.pi*train_2[col])/max(train_2[col]))\n",
    "train_2=train_2.drop(columns,axis=1)\n",
    "\n",
    "columns=['month_time','season','week_time']\n",
    "for col in columns:\n",
    "    test_2[col+'_sin']=np.sin((2*np.pi*test_2[col])/max(test_2[col]))\n",
    "    test_2[col+'_cos']=np.cos((2*np.pi*test_2[col])/max(test_2[col]))\n",
    "test_2=test_2.drop(columns,axis=1)"
   ]
  },
  {
   "cell_type": "code",
   "execution_count": 248,
   "metadata": {},
   "outputs": [],
   "source": [
    "train_2.replace({np.inf:0,-np.inf:0}, inplace=True)\n",
    "test_2.replace({np.inf:0,-np.inf:0}, inplace=True)"
   ]
  },
  {
   "cell_type": "code",
   "execution_count": 249,
   "metadata": {},
   "outputs": [],
   "source": [
    "train_2.replace(np.nan, 0, inplace = True)\n",
    "test_2.replace(np.nan, 0, inplace = True)"
   ]
  },
  {
   "cell_type": "code",
   "execution_count": 250,
   "metadata": {},
   "outputs": [
    {
     "data": {
      "text/plain": [
       "Index(['Customer ID', 'Quantity', 'Invoice Value', 'year_end', 'year_start',\n",
       "       'quarter_end', 'quarter_start', 'week_end', 'week_start', 'day',\n",
       "       'month', 'day_of_week', 'day_sin', 'day_cos', 'month_sin', 'month_cos',\n",
       "       'day_of_week_sin', 'day_of_week_cos', 'year_0', 'Invoice Value_mean',\n",
       "       'lag_1', 'lag_2', 'lag_3', 'lag_4', 'lag_5', 'lag_6', 'lag_7', 'lag_8',\n",
       "       'lag_9', 'lag_10', 'lag_11', 'lag_12', 'lag_13', 'lag_14', 'lag_15',\n",
       "       'lag_16', 'lag_17', 'lag_18', 'lag_19', 'lag_20', 'lag_21', 'lag_22',\n",
       "       'Invoice_Value_ratio', 'year_0', 'month_time_sin', 'month_time_cos',\n",
       "       'season_sin', 'season_cos', 'week_time_sin', 'week_time_cos'],\n",
       "      dtype='object')"
      ]
     },
     "execution_count": 250,
     "metadata": {},
     "output_type": "execute_result"
    }
   ],
   "source": [
    "train_2.columns"
   ]
  },
  {
   "cell_type": "code",
   "execution_count": 251,
   "metadata": {},
   "outputs": [],
   "source": [
    "col_u2 = ['Invoice Value', 'year_end', 'year_start',\n",
    "       'quarter_end', 'quarter_start', 'week_end', 'week_start', 'day',\n",
    "       'month', 'day_of_week', 'day_sin', 'day_cos', 'month_sin', 'month_cos',\n",
    "       'day_of_week_sin', 'day_of_week_cos', 'year_0', 'Invoice Value_mean',\n",
    "       'lag_1', 'lag_2', 'lag_3', 'lag_4', 'lag_5', 'lag_6', 'lag_7', 'lag_8',\n",
    "       'lag_9', 'lag_10', 'lag_11', 'lag_12', 'lag_13', 'lag_14', 'lag_15',\n",
    "       'lag_16', 'lag_17', 'lag_18', 'lag_19', 'lag_20', 'lag_21', 'lag_22',\n",
    "       'Invoice_Value_ratio', 'year_0', 'month_time_sin', 'month_time_cos',\n",
    "       'season_sin', 'season_cos', 'week_time_sin', 'week_time_cos']"
   ]
  },
  {
   "cell_type": "code",
   "execution_count": 252,
   "metadata": {},
   "outputs": [],
   "source": [
    "X_train2 = train_2[col_u2][:]\n",
    "y_train2 = train_2['Quantity']\n",
    "\n",
    "X_test2 = test_2[col_u2][:]\n",
    "y_test2 = test_2['Quantity']"
   ]
  },
  {
   "cell_type": "code",
   "execution_count": 159,
   "metadata": {},
   "outputs": [
    {
     "ename": "MemoryError",
     "evalue": "Unable to allocate 135. MiB for an array with shape (52, 339172) and data type float64",
     "output_type": "error",
     "traceback": [
      "\u001b[0;31m---------------------------------------------------------------------------\u001b[0m",
      "\u001b[0;31mMemoryError\u001b[0m                               Traceback (most recent call last)",
      "\u001b[0;32m<ipython-input-159-f833df55b04b>\u001b[0m in \u001b[0;36m<module>\u001b[0;34m\u001b[0m\n\u001b[1;32m      1\u001b[0m \u001b[0;32mfrom\u001b[0m \u001b[0msklearn\u001b[0m \u001b[0;32mimport\u001b[0m \u001b[0mlinear_model\u001b[0m\u001b[0;34m\u001b[0m\u001b[0;34m\u001b[0m\u001b[0m\n\u001b[1;32m      2\u001b[0m \u001b[0mlinear\u001b[0m \u001b[0;34m=\u001b[0m \u001b[0mlinear_model\u001b[0m\u001b[0;34m.\u001b[0m\u001b[0mLinearRegression\u001b[0m\u001b[0;34m(\u001b[0m\u001b[0;34m)\u001b[0m\u001b[0;34m\u001b[0m\u001b[0;34m\u001b[0m\u001b[0m\n\u001b[0;32m----> 3\u001b[0;31m \u001b[0mlinear\u001b[0m\u001b[0;34m.\u001b[0m\u001b[0mfit\u001b[0m\u001b[0;34m(\u001b[0m\u001b[0mX_train2\u001b[0m\u001b[0;34m,\u001b[0m \u001b[0my_train2\u001b[0m\u001b[0;34m)\u001b[0m\u001b[0;34m\u001b[0m\u001b[0;34m\u001b[0m\u001b[0m\n\u001b[0m\u001b[1;32m      4\u001b[0m \u001b[0;34m\u001b[0m\u001b[0m\n\u001b[1;32m      5\u001b[0m \u001b[0mrtp2\u001b[0m \u001b[0;34m=\u001b[0m \u001b[0mlinear\u001b[0m\u001b[0;34m.\u001b[0m\u001b[0mpredict\u001b[0m\u001b[0;34m(\u001b[0m\u001b[0mX_test2\u001b[0m\u001b[0;34m)\u001b[0m\u001b[0;34m\u001b[0m\u001b[0;34m\u001b[0m\u001b[0m\n",
      "\u001b[0;32m~/anaconda3/envs/python3/lib/python3.6/site-packages/sklearn/linear_model/_base.py\u001b[0m in \u001b[0;36mfit\u001b[0;34m(self, X, y, sample_weight)\u001b[0m\n\u001b[1;32m    504\u001b[0m         \u001b[0mn_jobs_\u001b[0m \u001b[0;34m=\u001b[0m \u001b[0mself\u001b[0m\u001b[0;34m.\u001b[0m\u001b[0mn_jobs\u001b[0m\u001b[0;34m\u001b[0m\u001b[0;34m\u001b[0m\u001b[0m\n\u001b[1;32m    505\u001b[0m         X, y = self._validate_data(X, y, accept_sparse=['csr', 'csc', 'coo'],\n\u001b[0;32m--> 506\u001b[0;31m                                    y_numeric=True, multi_output=True)\n\u001b[0m\u001b[1;32m    507\u001b[0m \u001b[0;34m\u001b[0m\u001b[0m\n\u001b[1;32m    508\u001b[0m         \u001b[0;32mif\u001b[0m \u001b[0msample_weight\u001b[0m \u001b[0;32mis\u001b[0m \u001b[0;32mnot\u001b[0m \u001b[0;32mNone\u001b[0m\u001b[0;34m:\u001b[0m\u001b[0;34m\u001b[0m\u001b[0;34m\u001b[0m\u001b[0m\n",
      "\u001b[0;32m~/anaconda3/envs/python3/lib/python3.6/site-packages/sklearn/base.py\u001b[0m in \u001b[0;36m_validate_data\u001b[0;34m(self, X, y, reset, validate_separately, **check_params)\u001b[0m\n\u001b[1;32m    430\u001b[0m                 \u001b[0my\u001b[0m \u001b[0;34m=\u001b[0m \u001b[0mcheck_array\u001b[0m\u001b[0;34m(\u001b[0m\u001b[0my\u001b[0m\u001b[0;34m,\u001b[0m \u001b[0;34m**\u001b[0m\u001b[0mcheck_y_params\u001b[0m\u001b[0;34m)\u001b[0m\u001b[0;34m\u001b[0m\u001b[0;34m\u001b[0m\u001b[0m\n\u001b[1;32m    431\u001b[0m             \u001b[0;32melse\u001b[0m\u001b[0;34m:\u001b[0m\u001b[0;34m\u001b[0m\u001b[0;34m\u001b[0m\u001b[0m\n\u001b[0;32m--> 432\u001b[0;31m                 \u001b[0mX\u001b[0m\u001b[0;34m,\u001b[0m \u001b[0my\u001b[0m \u001b[0;34m=\u001b[0m \u001b[0mcheck_X_y\u001b[0m\u001b[0;34m(\u001b[0m\u001b[0mX\u001b[0m\u001b[0;34m,\u001b[0m \u001b[0my\u001b[0m\u001b[0;34m,\u001b[0m \u001b[0;34m**\u001b[0m\u001b[0mcheck_params\u001b[0m\u001b[0;34m)\u001b[0m\u001b[0;34m\u001b[0m\u001b[0;34m\u001b[0m\u001b[0m\n\u001b[0m\u001b[1;32m    433\u001b[0m             \u001b[0mout\u001b[0m \u001b[0;34m=\u001b[0m \u001b[0mX\u001b[0m\u001b[0;34m,\u001b[0m \u001b[0my\u001b[0m\u001b[0;34m\u001b[0m\u001b[0;34m\u001b[0m\u001b[0m\n\u001b[1;32m    434\u001b[0m \u001b[0;34m\u001b[0m\u001b[0m\n",
      "\u001b[0;32m~/anaconda3/envs/python3/lib/python3.6/site-packages/sklearn/utils/validation.py\u001b[0m in \u001b[0;36minner_f\u001b[0;34m(*args, **kwargs)\u001b[0m\n\u001b[1;32m     71\u001b[0m                           FutureWarning)\n\u001b[1;32m     72\u001b[0m         \u001b[0mkwargs\u001b[0m\u001b[0;34m.\u001b[0m\u001b[0mupdate\u001b[0m\u001b[0;34m(\u001b[0m\u001b[0;34m{\u001b[0m\u001b[0mk\u001b[0m\u001b[0;34m:\u001b[0m \u001b[0marg\u001b[0m \u001b[0;32mfor\u001b[0m \u001b[0mk\u001b[0m\u001b[0;34m,\u001b[0m \u001b[0marg\u001b[0m \u001b[0;32min\u001b[0m \u001b[0mzip\u001b[0m\u001b[0;34m(\u001b[0m\u001b[0msig\u001b[0m\u001b[0;34m.\u001b[0m\u001b[0mparameters\u001b[0m\u001b[0;34m,\u001b[0m \u001b[0margs\u001b[0m\u001b[0;34m)\u001b[0m\u001b[0;34m}\u001b[0m\u001b[0;34m)\u001b[0m\u001b[0;34m\u001b[0m\u001b[0;34m\u001b[0m\u001b[0m\n\u001b[0;32m---> 73\u001b[0;31m         \u001b[0;32mreturn\u001b[0m \u001b[0mf\u001b[0m\u001b[0;34m(\u001b[0m\u001b[0;34m**\u001b[0m\u001b[0mkwargs\u001b[0m\u001b[0;34m)\u001b[0m\u001b[0;34m\u001b[0m\u001b[0;34m\u001b[0m\u001b[0m\n\u001b[0m\u001b[1;32m     74\u001b[0m     \u001b[0;32mreturn\u001b[0m \u001b[0minner_f\u001b[0m\u001b[0;34m\u001b[0m\u001b[0;34m\u001b[0m\u001b[0m\n\u001b[1;32m     75\u001b[0m \u001b[0;34m\u001b[0m\u001b[0m\n",
      "\u001b[0;32m~/anaconda3/envs/python3/lib/python3.6/site-packages/sklearn/utils/validation.py\u001b[0m in \u001b[0;36mcheck_X_y\u001b[0;34m(X, y, accept_sparse, accept_large_sparse, dtype, order, copy, force_all_finite, ensure_2d, allow_nd, multi_output, ensure_min_samples, ensure_min_features, y_numeric, estimator)\u001b[0m\n\u001b[1;32m    801\u001b[0m                     \u001b[0mensure_min_samples\u001b[0m\u001b[0;34m=\u001b[0m\u001b[0mensure_min_samples\u001b[0m\u001b[0;34m,\u001b[0m\u001b[0;34m\u001b[0m\u001b[0;34m\u001b[0m\u001b[0m\n\u001b[1;32m    802\u001b[0m                     \u001b[0mensure_min_features\u001b[0m\u001b[0;34m=\u001b[0m\u001b[0mensure_min_features\u001b[0m\u001b[0;34m,\u001b[0m\u001b[0;34m\u001b[0m\u001b[0;34m\u001b[0m\u001b[0m\n\u001b[0;32m--> 803\u001b[0;31m                     estimator=estimator)\n\u001b[0m\u001b[1;32m    804\u001b[0m     \u001b[0;32mif\u001b[0m \u001b[0mmulti_output\u001b[0m\u001b[0;34m:\u001b[0m\u001b[0;34m\u001b[0m\u001b[0;34m\u001b[0m\u001b[0m\n\u001b[1;32m    805\u001b[0m         y = check_array(y, accept_sparse='csr', force_all_finite=True,\n",
      "\u001b[0;32m~/anaconda3/envs/python3/lib/python3.6/site-packages/sklearn/utils/validation.py\u001b[0m in \u001b[0;36minner_f\u001b[0;34m(*args, **kwargs)\u001b[0m\n\u001b[1;32m     71\u001b[0m                           FutureWarning)\n\u001b[1;32m     72\u001b[0m         \u001b[0mkwargs\u001b[0m\u001b[0;34m.\u001b[0m\u001b[0mupdate\u001b[0m\u001b[0;34m(\u001b[0m\u001b[0;34m{\u001b[0m\u001b[0mk\u001b[0m\u001b[0;34m:\u001b[0m \u001b[0marg\u001b[0m \u001b[0;32mfor\u001b[0m \u001b[0mk\u001b[0m\u001b[0;34m,\u001b[0m \u001b[0marg\u001b[0m \u001b[0;32min\u001b[0m \u001b[0mzip\u001b[0m\u001b[0;34m(\u001b[0m\u001b[0msig\u001b[0m\u001b[0;34m.\u001b[0m\u001b[0mparameters\u001b[0m\u001b[0;34m,\u001b[0m \u001b[0margs\u001b[0m\u001b[0;34m)\u001b[0m\u001b[0;34m}\u001b[0m\u001b[0;34m)\u001b[0m\u001b[0;34m\u001b[0m\u001b[0;34m\u001b[0m\u001b[0m\n\u001b[0;32m---> 73\u001b[0;31m         \u001b[0;32mreturn\u001b[0m \u001b[0mf\u001b[0m\u001b[0;34m(\u001b[0m\u001b[0;34m**\u001b[0m\u001b[0mkwargs\u001b[0m\u001b[0;34m)\u001b[0m\u001b[0;34m\u001b[0m\u001b[0;34m\u001b[0m\u001b[0m\n\u001b[0m\u001b[1;32m     74\u001b[0m     \u001b[0;32mreturn\u001b[0m \u001b[0minner_f\u001b[0m\u001b[0;34m\u001b[0m\u001b[0;34m\u001b[0m\u001b[0m\n\u001b[1;32m     75\u001b[0m \u001b[0;34m\u001b[0m\u001b[0m\n",
      "\u001b[0;32m~/anaconda3/envs/python3/lib/python3.6/site-packages/sklearn/utils/validation.py\u001b[0m in \u001b[0;36mcheck_array\u001b[0;34m(array, accept_sparse, accept_large_sparse, dtype, order, copy, force_all_finite, ensure_2d, allow_nd, ensure_min_samples, ensure_min_features, estimator)\u001b[0m\n\u001b[1;32m    597\u001b[0m                     \u001b[0marray\u001b[0m \u001b[0;34m=\u001b[0m \u001b[0marray\u001b[0m\u001b[0;34m.\u001b[0m\u001b[0mastype\u001b[0m\u001b[0;34m(\u001b[0m\u001b[0mdtype\u001b[0m\u001b[0;34m,\u001b[0m \u001b[0mcasting\u001b[0m\u001b[0;34m=\u001b[0m\u001b[0;34m\"unsafe\"\u001b[0m\u001b[0;34m,\u001b[0m \u001b[0mcopy\u001b[0m\u001b[0;34m=\u001b[0m\u001b[0;32mFalse\u001b[0m\u001b[0;34m)\u001b[0m\u001b[0;34m\u001b[0m\u001b[0;34m\u001b[0m\u001b[0m\n\u001b[1;32m    598\u001b[0m                 \u001b[0;32melse\u001b[0m\u001b[0;34m:\u001b[0m\u001b[0;34m\u001b[0m\u001b[0;34m\u001b[0m\u001b[0m\n\u001b[0;32m--> 599\u001b[0;31m                     \u001b[0marray\u001b[0m \u001b[0;34m=\u001b[0m \u001b[0mnp\u001b[0m\u001b[0;34m.\u001b[0m\u001b[0masarray\u001b[0m\u001b[0;34m(\u001b[0m\u001b[0marray\u001b[0m\u001b[0;34m,\u001b[0m \u001b[0morder\u001b[0m\u001b[0;34m=\u001b[0m\u001b[0morder\u001b[0m\u001b[0;34m,\u001b[0m \u001b[0mdtype\u001b[0m\u001b[0;34m=\u001b[0m\u001b[0mdtype\u001b[0m\u001b[0;34m)\u001b[0m\u001b[0;34m\u001b[0m\u001b[0;34m\u001b[0m\u001b[0m\n\u001b[0m\u001b[1;32m    600\u001b[0m             \u001b[0;32mexcept\u001b[0m \u001b[0mComplexWarning\u001b[0m\u001b[0;34m:\u001b[0m\u001b[0;34m\u001b[0m\u001b[0;34m\u001b[0m\u001b[0m\n\u001b[1;32m    601\u001b[0m                 raise ValueError(\"Complex data not supported\\n\"\n",
      "\u001b[0;32m~/anaconda3/envs/python3/lib/python3.6/site-packages/numpy/core/_asarray.py\u001b[0m in \u001b[0;36masarray\u001b[0;34m(a, dtype, order)\u001b[0m\n\u001b[1;32m     83\u001b[0m \u001b[0;34m\u001b[0m\u001b[0m\n\u001b[1;32m     84\u001b[0m     \"\"\"\n\u001b[0;32m---> 85\u001b[0;31m     \u001b[0;32mreturn\u001b[0m \u001b[0marray\u001b[0m\u001b[0;34m(\u001b[0m\u001b[0ma\u001b[0m\u001b[0;34m,\u001b[0m \u001b[0mdtype\u001b[0m\u001b[0;34m,\u001b[0m \u001b[0mcopy\u001b[0m\u001b[0;34m=\u001b[0m\u001b[0;32mFalse\u001b[0m\u001b[0;34m,\u001b[0m \u001b[0morder\u001b[0m\u001b[0;34m=\u001b[0m\u001b[0morder\u001b[0m\u001b[0;34m)\u001b[0m\u001b[0;34m\u001b[0m\u001b[0;34m\u001b[0m\u001b[0m\n\u001b[0m\u001b[1;32m     86\u001b[0m \u001b[0;34m\u001b[0m\u001b[0m\n\u001b[1;32m     87\u001b[0m \u001b[0;34m\u001b[0m\u001b[0m\n",
      "\u001b[0;32m~/anaconda3/envs/python3/lib/python3.6/site-packages/pandas/core/generic.py\u001b[0m in \u001b[0;36m__array__\u001b[0;34m(self, dtype)\u001b[0m\n\u001b[1;32m   1907\u001b[0m \u001b[0;34m\u001b[0m\u001b[0m\n\u001b[1;32m   1908\u001b[0m     \u001b[0;32mdef\u001b[0m \u001b[0m__array__\u001b[0m\u001b[0;34m(\u001b[0m\u001b[0mself\u001b[0m\u001b[0;34m,\u001b[0m \u001b[0mdtype\u001b[0m\u001b[0;34m=\u001b[0m\u001b[0;32mNone\u001b[0m\u001b[0;34m)\u001b[0m \u001b[0;34m->\u001b[0m \u001b[0mnp\u001b[0m\u001b[0;34m.\u001b[0m\u001b[0mndarray\u001b[0m\u001b[0;34m:\u001b[0m\u001b[0;34m\u001b[0m\u001b[0;34m\u001b[0m\u001b[0m\n\u001b[0;32m-> 1909\u001b[0;31m         \u001b[0;32mreturn\u001b[0m \u001b[0mcom\u001b[0m\u001b[0;34m.\u001b[0m\u001b[0mvalues_from_object\u001b[0m\u001b[0;34m(\u001b[0m\u001b[0mself\u001b[0m\u001b[0;34m)\u001b[0m\u001b[0;34m\u001b[0m\u001b[0;34m\u001b[0m\u001b[0m\n\u001b[0m\u001b[1;32m   1910\u001b[0m \u001b[0;34m\u001b[0m\u001b[0m\n\u001b[1;32m   1911\u001b[0m     \u001b[0;32mdef\u001b[0m \u001b[0m__array_wrap__\u001b[0m\u001b[0;34m(\u001b[0m\u001b[0mself\u001b[0m\u001b[0;34m,\u001b[0m \u001b[0mresult\u001b[0m\u001b[0;34m,\u001b[0m \u001b[0mcontext\u001b[0m\u001b[0;34m=\u001b[0m\u001b[0;32mNone\u001b[0m\u001b[0;34m)\u001b[0m\u001b[0;34m:\u001b[0m\u001b[0;34m\u001b[0m\u001b[0;34m\u001b[0m\u001b[0m\n",
      "\u001b[0;32mpandas/_libs/lib.pyx\u001b[0m in \u001b[0;36mpandas._libs.lib.values_from_object\u001b[0;34m()\u001b[0m\n",
      "\u001b[0;32m~/anaconda3/envs/python3/lib/python3.6/site-packages/pandas/core/generic.py\u001b[0m in \u001b[0;36mvalues\u001b[0;34m(self)\u001b[0m\n\u001b[1;32m   5485\u001b[0m         \"\"\"\n\u001b[1;32m   5486\u001b[0m         \u001b[0mself\u001b[0m\u001b[0;34m.\u001b[0m\u001b[0m_consolidate_inplace\u001b[0m\u001b[0;34m(\u001b[0m\u001b[0;34m)\u001b[0m\u001b[0;34m\u001b[0m\u001b[0;34m\u001b[0m\u001b[0m\n\u001b[0;32m-> 5487\u001b[0;31m         \u001b[0;32mreturn\u001b[0m \u001b[0mself\u001b[0m\u001b[0;34m.\u001b[0m\u001b[0m_data\u001b[0m\u001b[0;34m.\u001b[0m\u001b[0mas_array\u001b[0m\u001b[0;34m(\u001b[0m\u001b[0mtranspose\u001b[0m\u001b[0;34m=\u001b[0m\u001b[0mself\u001b[0m\u001b[0;34m.\u001b[0m\u001b[0m_AXIS_REVERSED\u001b[0m\u001b[0;34m)\u001b[0m\u001b[0;34m\u001b[0m\u001b[0;34m\u001b[0m\u001b[0m\n\u001b[0m\u001b[1;32m   5488\u001b[0m \u001b[0;34m\u001b[0m\u001b[0m\n\u001b[1;32m   5489\u001b[0m     \u001b[0;34m@\u001b[0m\u001b[0mproperty\u001b[0m\u001b[0;34m\u001b[0m\u001b[0;34m\u001b[0m\u001b[0m\n",
      "\u001b[0;32m~/anaconda3/envs/python3/lib/python3.6/site-packages/pandas/core/internals/managers.py\u001b[0m in \u001b[0;36mas_array\u001b[0;34m(self, transpose, items)\u001b[0m\n\u001b[1;32m    828\u001b[0m             \u001b[0marr\u001b[0m \u001b[0;34m=\u001b[0m \u001b[0mnp\u001b[0m\u001b[0;34m.\u001b[0m\u001b[0masarray\u001b[0m\u001b[0;34m(\u001b[0m\u001b[0mmgr\u001b[0m\u001b[0;34m.\u001b[0m\u001b[0mblocks\u001b[0m\u001b[0;34m[\u001b[0m\u001b[0;36m0\u001b[0m\u001b[0;34m]\u001b[0m\u001b[0;34m.\u001b[0m\u001b[0mget_values\u001b[0m\u001b[0;34m(\u001b[0m\u001b[0;34m)\u001b[0m\u001b[0;34m)\u001b[0m\u001b[0;34m\u001b[0m\u001b[0;34m\u001b[0m\u001b[0m\n\u001b[1;32m    829\u001b[0m         \u001b[0;32melse\u001b[0m\u001b[0;34m:\u001b[0m\u001b[0;34m\u001b[0m\u001b[0;34m\u001b[0m\u001b[0m\n\u001b[0;32m--> 830\u001b[0;31m             \u001b[0marr\u001b[0m \u001b[0;34m=\u001b[0m \u001b[0mmgr\u001b[0m\u001b[0;34m.\u001b[0m\u001b[0m_interleave\u001b[0m\u001b[0;34m(\u001b[0m\u001b[0;34m)\u001b[0m\u001b[0;34m\u001b[0m\u001b[0;34m\u001b[0m\u001b[0m\n\u001b[0m\u001b[1;32m    831\u001b[0m \u001b[0;34m\u001b[0m\u001b[0m\n\u001b[1;32m    832\u001b[0m         \u001b[0;32mreturn\u001b[0m \u001b[0marr\u001b[0m\u001b[0;34m.\u001b[0m\u001b[0mtranspose\u001b[0m\u001b[0;34m(\u001b[0m\u001b[0;34m)\u001b[0m \u001b[0;32mif\u001b[0m \u001b[0mtranspose\u001b[0m \u001b[0;32melse\u001b[0m \u001b[0marr\u001b[0m\u001b[0;34m\u001b[0m\u001b[0;34m\u001b[0m\u001b[0m\n",
      "\u001b[0;32m~/anaconda3/envs/python3/lib/python3.6/site-packages/pandas/core/internals/managers.py\u001b[0m in \u001b[0;36m_interleave\u001b[0;34m(self)\u001b[0m\n\u001b[1;32m    846\u001b[0m             \u001b[0mdtype\u001b[0m \u001b[0;34m=\u001b[0m \u001b[0;34m\"object\"\u001b[0m\u001b[0;34m\u001b[0m\u001b[0;34m\u001b[0m\u001b[0m\n\u001b[1;32m    847\u001b[0m \u001b[0;34m\u001b[0m\u001b[0m\n\u001b[0;32m--> 848\u001b[0;31m         \u001b[0mresult\u001b[0m \u001b[0;34m=\u001b[0m \u001b[0mnp\u001b[0m\u001b[0;34m.\u001b[0m\u001b[0mempty\u001b[0m\u001b[0;34m(\u001b[0m\u001b[0mself\u001b[0m\u001b[0;34m.\u001b[0m\u001b[0mshape\u001b[0m\u001b[0;34m,\u001b[0m \u001b[0mdtype\u001b[0m\u001b[0;34m=\u001b[0m\u001b[0mdtype\u001b[0m\u001b[0;34m)\u001b[0m\u001b[0;34m\u001b[0m\u001b[0;34m\u001b[0m\u001b[0m\n\u001b[0m\u001b[1;32m    849\u001b[0m \u001b[0;34m\u001b[0m\u001b[0m\n\u001b[1;32m    850\u001b[0m         \u001b[0mitemmask\u001b[0m \u001b[0;34m=\u001b[0m \u001b[0mnp\u001b[0m\u001b[0;34m.\u001b[0m\u001b[0mzeros\u001b[0m\u001b[0;34m(\u001b[0m\u001b[0mself\u001b[0m\u001b[0;34m.\u001b[0m\u001b[0mshape\u001b[0m\u001b[0;34m[\u001b[0m\u001b[0;36m0\u001b[0m\u001b[0;34m]\u001b[0m\u001b[0;34m)\u001b[0m\u001b[0;34m\u001b[0m\u001b[0;34m\u001b[0m\u001b[0m\n",
      "\u001b[0;31mMemoryError\u001b[0m: Unable to allocate 135. MiB for an array with shape (52, 339172) and data type float64"
     ]
    }
   ],
   "source": [
    "from sklearn import linear_model\n",
    "linear = linear_model.LinearRegression()\n",
    "linear.fit(X_train2, y_train2)\n",
    "\n",
    "rtp2 = linear.predict(X_test2)\n",
    "\n",
    "print(forecast_accuracy(np.array(rtp2), np.array(y_test2)))\n",
    "\n",
    "for c, cc in enumerate(linear.coef_):\n",
    "    print(X_train2.columns[c])\n",
    "    print(cc)"
   ]
  },
  {
   "cell_type": "code",
   "execution_count": null,
   "metadata": {},
   "outputs": [],
   "source": []
  }
 ],
 "metadata": {
  "kernelspec": {
   "display_name": "conda_python3",
   "language": "python",
   "name": "conda_python3"
  },
  "language_info": {
   "codemirror_mode": {
    "name": "ipython",
    "version": 3
   },
   "file_extension": ".py",
   "mimetype": "text/x-python",
   "name": "python",
   "nbconvert_exporter": "python",
   "pygments_lexer": "ipython3",
   "version": "3.6.10"
  }
 },
 "nbformat": 4,
 "nbformat_minor": 4
}
